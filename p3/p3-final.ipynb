{
 "cells": [
  {
   "cell_type": "markdown",
   "metadata": {},
   "source": [
    "# P2 Final: Investigating the Titanic Dataset\n",
    "### By Daniel J. Lee\n",
    "\n",
    "## 1. Introduction\n",
    "The Titanic Data contains demographics and passenger information from 891 of the 2224 passengers and crew on board the Titanic. The data was obtained from [Kaggle]('https://www.kaggle.com/c/titanic/data') website and the description of the data is also provided there.\n",
    "\n",
    "*[Encyclopedia-Titanica](https://www.encyclopedia-titanica.org/titanic-deckplans/) offers a great detailed view on the floor plan of the Titanic.\n",
    "\n",
    "For this project, we want to find the factors that would determine whether a given passenger would survive or not. We will examine the overall structure and its variables through wrangling and statistical analysis."
   ]
  },
  {
   "cell_type": "markdown",
   "metadata": {},
   "source": [
    "## 2. Overview"
   ]
  },
  {
   "cell_type": "code",
   "execution_count": 2,
   "metadata": {
    "collapsed": false
   },
   "outputs": [],
   "source": [
    "import pandas as pd\n",
    "import numpy as np\n",
    "import seaborn as sns\n",
    "import matplotlib.pyplot as plt\n",
    "\n",
    "df = pd.read_csv('titanic-data.csv');"
   ]
  },
  {
   "cell_type": "code",
   "execution_count": 3,
   "metadata": {
    "collapsed": false
   },
   "outputs": [
    {
     "data": {
      "text/html": [
       "<div>\n",
       "<table border=\"1\" class=\"dataframe\">\n",
       "  <thead>\n",
       "    <tr style=\"text-align: right;\">\n",
       "      <th></th>\n",
       "      <th>PassengerId</th>\n",
       "      <th>Survived</th>\n",
       "      <th>Pclass</th>\n",
       "      <th>Name</th>\n",
       "      <th>Sex</th>\n",
       "      <th>Age</th>\n",
       "      <th>SibSp</th>\n",
       "      <th>Parch</th>\n",
       "      <th>Ticket</th>\n",
       "      <th>Fare</th>\n",
       "      <th>Cabin</th>\n",
       "      <th>Embarked</th>\n",
       "    </tr>\n",
       "  </thead>\n",
       "  <tbody>\n",
       "    <tr>\n",
       "      <th>888</th>\n",
       "      <td>889</td>\n",
       "      <td>0</td>\n",
       "      <td>3</td>\n",
       "      <td>Johnston, Miss. Catherine Helen \"Carrie\"</td>\n",
       "      <td>female</td>\n",
       "      <td>NaN</td>\n",
       "      <td>1</td>\n",
       "      <td>2</td>\n",
       "      <td>W./C. 6607</td>\n",
       "      <td>23.45</td>\n",
       "      <td>NaN</td>\n",
       "      <td>S</td>\n",
       "    </tr>\n",
       "    <tr>\n",
       "      <th>889</th>\n",
       "      <td>890</td>\n",
       "      <td>1</td>\n",
       "      <td>1</td>\n",
       "      <td>Behr, Mr. Karl Howell</td>\n",
       "      <td>male</td>\n",
       "      <td>26.0</td>\n",
       "      <td>0</td>\n",
       "      <td>0</td>\n",
       "      <td>111369</td>\n",
       "      <td>30.00</td>\n",
       "      <td>C148</td>\n",
       "      <td>C</td>\n",
       "    </tr>\n",
       "    <tr>\n",
       "      <th>890</th>\n",
       "      <td>891</td>\n",
       "      <td>0</td>\n",
       "      <td>3</td>\n",
       "      <td>Dooley, Mr. Patrick</td>\n",
       "      <td>male</td>\n",
       "      <td>32.0</td>\n",
       "      <td>0</td>\n",
       "      <td>0</td>\n",
       "      <td>370376</td>\n",
       "      <td>7.75</td>\n",
       "      <td>NaN</td>\n",
       "      <td>Q</td>\n",
       "    </tr>\n",
       "  </tbody>\n",
       "</table>\n",
       "</div>"
      ],
      "text/plain": [
       "     PassengerId  Survived  Pclass                                      Name  \\\n",
       "888          889         0       3  Johnston, Miss. Catherine Helen \"Carrie\"   \n",
       "889          890         1       1                     Behr, Mr. Karl Howell   \n",
       "890          891         0       3                       Dooley, Mr. Patrick   \n",
       "\n",
       "        Sex   Age  SibSp  Parch      Ticket   Fare Cabin Embarked  \n",
       "888  female   NaN      1      2  W./C. 6607  23.45   NaN        S  \n",
       "889    male  26.0      0      0      111369  30.00  C148        C  \n",
       "890    male  32.0      0      0      370376   7.75   NaN        Q  "
      ]
     },
     "execution_count": 3,
     "metadata": {},
     "output_type": "execute_result"
    }
   ],
   "source": [
    "df.tail(3)"
   ]
  },
  {
   "cell_type": "code",
   "execution_count": 4,
   "metadata": {
    "collapsed": false
   },
   "outputs": [
    {
     "data": {
      "text/plain": [
       "PassengerId      int64\n",
       "Survived         int64\n",
       "Pclass           int64\n",
       "Name            object\n",
       "Sex             object\n",
       "Age            float64\n",
       "SibSp            int64\n",
       "Parch            int64\n",
       "Ticket          object\n",
       "Fare           float64\n",
       "Cabin           object\n",
       "Embarked        object\n",
       "dtype: object"
      ]
     },
     "execution_count": 4,
     "metadata": {},
     "output_type": "execute_result"
    }
   ],
   "source": [
    "df.dtypes\n",
    "\n",
    "# Survived, (0 = No, 1 = Yes)\n",
    "# Pclass, (1 = 1st, 2 = 2nd, 3 = 3rd)\n",
    "# SibSp, (# of Sibling / Spouse aboard Titanic)\n",
    "# Parch, (# of Parents / Children aboard Titanic)\n",
    "# Embarked, (Embarked from port: C = Cherbourg, Q = Queenstown, S = Southampton)"
   ]
  },
  {
   "cell_type": "code",
   "execution_count": 5,
   "metadata": {
    "collapsed": false
   },
   "outputs": [
    {
     "data": {
      "text/html": [
       "<div>\n",
       "<table border=\"1\" class=\"dataframe\">\n",
       "  <thead>\n",
       "    <tr style=\"text-align: right;\">\n",
       "      <th></th>\n",
       "      <th>PassengerId</th>\n",
       "      <th>Survived</th>\n",
       "      <th>Pclass</th>\n",
       "      <th>Age</th>\n",
       "      <th>SibSp</th>\n",
       "      <th>Parch</th>\n",
       "      <th>Fare</th>\n",
       "    </tr>\n",
       "  </thead>\n",
       "  <tbody>\n",
       "    <tr>\n",
       "      <th>count</th>\n",
       "      <td>891.000000</td>\n",
       "      <td>891.000000</td>\n",
       "      <td>891.000000</td>\n",
       "      <td>714.000000</td>\n",
       "      <td>891.000000</td>\n",
       "      <td>891.000000</td>\n",
       "      <td>891.000000</td>\n",
       "    </tr>\n",
       "    <tr>\n",
       "      <th>mean</th>\n",
       "      <td>446.000000</td>\n",
       "      <td>0.383838</td>\n",
       "      <td>2.308642</td>\n",
       "      <td>29.699118</td>\n",
       "      <td>0.523008</td>\n",
       "      <td>0.381594</td>\n",
       "      <td>32.204208</td>\n",
       "    </tr>\n",
       "    <tr>\n",
       "      <th>std</th>\n",
       "      <td>257.353842</td>\n",
       "      <td>0.486592</td>\n",
       "      <td>0.836071</td>\n",
       "      <td>14.526497</td>\n",
       "      <td>1.102743</td>\n",
       "      <td>0.806057</td>\n",
       "      <td>49.693429</td>\n",
       "    </tr>\n",
       "    <tr>\n",
       "      <th>min</th>\n",
       "      <td>1.000000</td>\n",
       "      <td>0.000000</td>\n",
       "      <td>1.000000</td>\n",
       "      <td>0.420000</td>\n",
       "      <td>0.000000</td>\n",
       "      <td>0.000000</td>\n",
       "      <td>0.000000</td>\n",
       "    </tr>\n",
       "    <tr>\n",
       "      <th>25%</th>\n",
       "      <td>223.500000</td>\n",
       "      <td>0.000000</td>\n",
       "      <td>2.000000</td>\n",
       "      <td>20.125000</td>\n",
       "      <td>0.000000</td>\n",
       "      <td>0.000000</td>\n",
       "      <td>7.910400</td>\n",
       "    </tr>\n",
       "    <tr>\n",
       "      <th>50%</th>\n",
       "      <td>446.000000</td>\n",
       "      <td>0.000000</td>\n",
       "      <td>3.000000</td>\n",
       "      <td>28.000000</td>\n",
       "      <td>0.000000</td>\n",
       "      <td>0.000000</td>\n",
       "      <td>14.454200</td>\n",
       "    </tr>\n",
       "    <tr>\n",
       "      <th>75%</th>\n",
       "      <td>668.500000</td>\n",
       "      <td>1.000000</td>\n",
       "      <td>3.000000</td>\n",
       "      <td>38.000000</td>\n",
       "      <td>1.000000</td>\n",
       "      <td>0.000000</td>\n",
       "      <td>31.000000</td>\n",
       "    </tr>\n",
       "    <tr>\n",
       "      <th>max</th>\n",
       "      <td>891.000000</td>\n",
       "      <td>1.000000</td>\n",
       "      <td>3.000000</td>\n",
       "      <td>80.000000</td>\n",
       "      <td>8.000000</td>\n",
       "      <td>6.000000</td>\n",
       "      <td>512.329200</td>\n",
       "    </tr>\n",
       "  </tbody>\n",
       "</table>\n",
       "</div>"
      ],
      "text/plain": [
       "       PassengerId    Survived      Pclass         Age       SibSp  \\\n",
       "count   891.000000  891.000000  891.000000  714.000000  891.000000   \n",
       "mean    446.000000    0.383838    2.308642   29.699118    0.523008   \n",
       "std     257.353842    0.486592    0.836071   14.526497    1.102743   \n",
       "min       1.000000    0.000000    1.000000    0.420000    0.000000   \n",
       "25%     223.500000    0.000000    2.000000   20.125000    0.000000   \n",
       "50%     446.000000    0.000000    3.000000   28.000000    0.000000   \n",
       "75%     668.500000    1.000000    3.000000   38.000000    1.000000   \n",
       "max     891.000000    1.000000    3.000000   80.000000    8.000000   \n",
       "\n",
       "            Parch        Fare  \n",
       "count  891.000000  891.000000  \n",
       "mean     0.381594   32.204208  \n",
       "std      0.806057   49.693429  \n",
       "min      0.000000    0.000000  \n",
       "25%      0.000000    7.910400  \n",
       "50%      0.000000   14.454200  \n",
       "75%      0.000000   31.000000  \n",
       "max      6.000000  512.329200  "
      ]
     },
     "execution_count": 5,
     "metadata": {},
     "output_type": "execute_result"
    }
   ],
   "source": [
    "df.describe()"
   ]
  },
  {
   "cell_type": "markdown",
   "metadata": {},
   "source": [
    "<b>Observations:</b>\n",
    "<br>\n",
    "<p>&#9642; Embarked, Sex, and Survived are catagorical variables while Pclass is an ordinal variable.<br>\n",
    "&#9642; Age, SibSp, Parch, and Fare are numerical variables.<br>\n",
    "&#9642; Ticket is both numeric and alphanumeric but not quite unique.<br>\n",
    "&#9642; Cabin is just alphanumeric but contains deck information in first character that is ordinal.<br>\n",
    "&#9642; 75% of the given passenger's age is less than 38.<br>\n",
    "&#9642; Average fare price is \\$32.20 which is $786.45 in [2017](http://www.in2013dollars.com/1912-dollars-in-2017?amount=32) by inflation.<br>\n",
    "&#9642; The minimum age was 0.42 which represents under the age of 1."
   ]
  },
  {
   "cell_type": "markdown",
   "metadata": {},
   "source": [
    "## 3. Questions\n",
    "\n",
    "The following questions arose after examining the data:\n",
    "<br>\n",
    "<p>&#9642; <b> Which variables have a strong correlation with one another?<br>\n",
    "&#9642; Does social-economic status (SES) have impact on the survival rate?<br>\n",
    "&#9642; Did port of embarkment affect survival rate?<br>\n",
    "&#9642; Does having family relations tend to have a higher survival rate?<br>\n",
    "&#9642; Are female passengers and infants are more likely to survive?</b>"
   ]
  },
  {
   "cell_type": "markdown",
   "metadata": {},
   "source": [
    "## 4.  Wrangling"
   ]
  },
  {
   "cell_type": "markdown",
   "metadata": {},
   "source": [
    "### 4a. Examining Structure"
   ]
  },
  {
   "cell_type": "markdown",
   "metadata": {},
   "source": [
    "We initially explored the values that each column of the dataframe contained."
   ]
  },
  {
   "cell_type": "code",
   "execution_count": 6,
   "metadata": {
    "collapsed": false
   },
   "outputs": [
    {
     "data": {
      "text/plain": [
       "3    0.551066\n",
       "1    0.242424\n",
       "2    0.206510\n",
       "Name: Pclass, dtype: float64"
      ]
     },
     "execution_count": 6,
     "metadata": {},
     "output_type": "execute_result"
    }
   ],
   "source": [
    "# Examining the count for unique values in each variable...\n",
    "def count_values(variable):\n",
    "    return df[variable].value_counts()\n",
    "\n",
    "count_values('Pclass')/len(df.index)"
   ]
  },
  {
   "cell_type": "markdown",
   "metadata": {},
   "source": [
    "<p>&#9642; It appears that <b>more than half</b> of the given passengers are 3rd class.</p>"
   ]
  },
  {
   "cell_type": "code",
   "execution_count": 7,
   "metadata": {
    "collapsed": false
   },
   "outputs": [
    {
     "data": {
      "text/plain": [
       "0.6026936026936027"
      ]
     },
     "execution_count": 7,
     "metadata": {},
     "output_type": "execute_result"
    }
   ],
   "source": [
    "len(df[(df['Parch']==0) &(df['SibSp']==0)])/ float(df['PassengerId'].count())"
   ]
  },
  {
   "cell_type": "markdown",
   "metadata": {},
   "source": [
    "<p>&#9642; It shows that 60% of the given passengers traveled alone with <b>no family relations</b>.</p>"
   ]
  },
  {
   "cell_type": "code",
   "execution_count": 8,
   "metadata": {
    "collapsed": false
   },
   "outputs": [
    {
     "name": "stdout",
     "output_type": "stream",
     "text": [
      "24.0    30\n",
      "22.0    27\n",
      "18.0    26\n",
      "19.0    25\n",
      "30.0    25\n",
      "Name: Age, dtype: int64 \n",
      "\n",
      "count    714.000000\n",
      "mean      29.699118\n",
      "std       14.526497\n",
      "min        0.420000\n",
      "25%       20.125000\n",
      "50%       28.000000\n",
      "75%       38.000000\n",
      "max       80.000000\n",
      "Name: Age, dtype: float64\n"
     ]
    }
   ],
   "source": [
    "print count_values('Age').head(), '\\n'\n",
    "print df['Age'].describe()"
   ]
  },
  {
   "cell_type": "markdown",
   "metadata": {},
   "source": [
    "<p>&#9642; It seems that <b>24</b> is the most frequent age. Since the mean is greater than the median, we can expect a <b>right-skewed behavior distribution</b> with 714 counts. In order to get a better idea of stages of life each given passenger, I plan on creating a function to return a new variable 'Age_Bracket' in the later section.</p>"
   ]
  },
  {
   "cell_type": "code",
   "execution_count": 9,
   "metadata": {
    "collapsed": false,
    "scrolled": true
   },
   "outputs": [
    {
     "name": "stdout",
     "output_type": "stream",
     "text": [
      "Survived \n",
      "0    549\n",
      "1    342\n",
      "Name: Survived, dtype: int64 \n",
      "\n",
      "Embarked \n",
      "S    644\n",
      "C    168\n",
      "Q     77\n",
      "Name: Embarked, dtype: int64 \n",
      "\n",
      "Parch \n",
      "0    678\n",
      "1    118\n",
      "2     80\n",
      "5      5\n",
      "3      5\n",
      "4      4\n",
      "6      1\n",
      "Name: Parch, dtype: int64 \n",
      "\n",
      "SibSp \n",
      "0    608\n",
      "1    209\n",
      "2     28\n",
      "4     18\n",
      "3     16\n",
      "8      7\n",
      "5      5\n",
      "Name: SibSp, dtype: int64\n"
     ]
    }
   ],
   "source": [
    "print 'Survived','\\n',count_values('Survived'),'\\n'\n",
    "print 'Embarked','\\n',count_values('Embarked'),'\\n'\n",
    "print 'Parch','\\n',count_values('Parch'),'\\n'\n",
    "print 'SibSp','\\n',count_values('SibSp')"
   ]
  },
  {
   "cell_type": "code",
   "execution_count": 12,
   "metadata": {
    "collapsed": false
   },
   "outputs": [
    {
     "data": {
      "text/plain": [
       "C23 C25 C27    4\n",
       "G6             4\n",
       "B96 B98        4\n",
       "D              3\n",
       "C22 C26        3\n",
       "Name: Cabin, dtype: int64"
      ]
     },
     "execution_count": 12,
     "metadata": {},
     "output_type": "execute_result"
    }
   ],
   "source": [
    "count_values('Cabin').head()"
   ]
  },
  {
   "cell_type": "markdown",
   "metadata": {},
   "source": [
    "<p>&#9642; Majority of the given passengers have either no parent/child or sibling/spouse relation.<br>\n",
    "&#9642; It seems that variables 'Ticket', 'PassengerID' and 'Name' are relatively unique and not explored.<br>\n",
    "&#9642; Most of the given passengers have information for came from Southampton.<br>\n",
    "&#9642; The first character displayed the deck information which is ordinal (highest to lowest position). The character will be extracted later in this section.\n",
    "</p>"
   ]
  },
  {
   "cell_type": "code",
   "execution_count": 13,
   "metadata": {
    "collapsed": false,
    "scrolled": true
   },
   "outputs": [
    {
     "data": {
      "text/plain": [
       "0    0.616162\n",
       "1    0.383838\n",
       "Name: Survived, dtype: float64"
      ]
     },
     "execution_count": 13,
     "metadata": {},
     "output_type": "execute_result"
    }
   ],
   "source": [
    "count_values('Survived')/len(df.index)"
   ]
  },
  {
   "cell_type": "markdown",
   "metadata": {},
   "source": [
    "<p>&#9642; We are given ~40% of the total passengers that boarded the Titanic. From the given passengers, only 38% of the passengers survived.</p>"
   ]
  },
  {
   "cell_type": "markdown",
   "metadata": {},
   "source": [
    "### 4b. Updating Values"
   ]
  },
  {
   "cell_type": "code",
   "execution_count": 122,
   "metadata": {
    "collapsed": false
   },
   "outputs": [
    {
     "data": {
      "text/html": [
       "<div>\n",
       "<table border=\"1\" class=\"dataframe\">\n",
       "  <thead>\n",
       "    <tr style=\"text-align: right;\">\n",
       "      <th></th>\n",
       "      <th>PassengerId</th>\n",
       "      <th>Survived</th>\n",
       "      <th>Pclass</th>\n",
       "      <th>Name</th>\n",
       "      <th>Sex</th>\n",
       "      <th>Age</th>\n",
       "      <th>SibSp</th>\n",
       "      <th>Parch</th>\n",
       "      <th>Ticket</th>\n",
       "      <th>Fare</th>\n",
       "      <th>Cabin</th>\n",
       "      <th>Embarked</th>\n",
       "      <th>IsAlone</th>\n",
       "      <th>Age_Bracket</th>\n",
       "    </tr>\n",
       "  </thead>\n",
       "  <tbody>\n",
       "    <tr>\n",
       "      <th>889</th>\n",
       "      <td>890</td>\n",
       "      <td>1</td>\n",
       "      <td>1</td>\n",
       "      <td>Behr, Mr. Karl Howell</td>\n",
       "      <td>male</td>\n",
       "      <td>26.0</td>\n",
       "      <td>0</td>\n",
       "      <td>0</td>\n",
       "      <td>111369</td>\n",
       "      <td>30.00</td>\n",
       "      <td>C148</td>\n",
       "      <td>Cherbourg</td>\n",
       "      <td>1</td>\n",
       "      <td>Young Adult</td>\n",
       "    </tr>\n",
       "    <tr>\n",
       "      <th>890</th>\n",
       "      <td>891</td>\n",
       "      <td>0</td>\n",
       "      <td>3</td>\n",
       "      <td>Dooley, Mr. Patrick</td>\n",
       "      <td>male</td>\n",
       "      <td>32.0</td>\n",
       "      <td>0</td>\n",
       "      <td>0</td>\n",
       "      <td>370376</td>\n",
       "      <td>7.75</td>\n",
       "      <td>NaN</td>\n",
       "      <td>Queenstown</td>\n",
       "      <td>1</td>\n",
       "      <td>Young Adult</td>\n",
       "    </tr>\n",
       "  </tbody>\n",
       "</table>\n",
       "</div>"
      ],
      "text/plain": [
       "     PassengerId  Survived  Pclass                   Name   Sex   Age  SibSp  \\\n",
       "889          890         1       1  Behr, Mr. Karl Howell  male  26.0      0   \n",
       "890          891         0       3    Dooley, Mr. Patrick  male  32.0      0   \n",
       "\n",
       "     Parch  Ticket   Fare Cabin    Embarked  IsAlone  Age_Bracket  \n",
       "889      0  111369  30.00  C148   Cherbourg        1  Young Adult  \n",
       "890      0  370376   7.75   NaN  Queenstown        1  Young Adult  "
      ]
     },
     "execution_count": 122,
     "metadata": {},
     "output_type": "execute_result"
    }
   ],
   "source": [
    "# C = Cherbourg, Q = Queenstown, S = Southampton)\n",
    "def update_embarked(x):\n",
    "    if x == 'S':\n",
    "        return 'Southampton'\n",
    "    elif x == 'Q':\n",
    "        return 'Queenstown'\n",
    "    elif x == 'C':\n",
    "        return 'Cherbourg'\n",
    "    else:\n",
    "        return np.nan\n",
    "    \n",
    "df['Embarked'] = pd.Series(df.Embarked.apply(update_embarked), index=df.index)\n",
    "df.tail(2)"
   ]
  },
  {
   "cell_type": "markdown",
   "metadata": {},
   "source": [
    "<p>&#9642; We changed the abbreviation of the port city to its full name in order to get a cleaner format. </p>"
   ]
  },
  {
   "cell_type": "markdown",
   "metadata": {},
   "source": [
    "### 4c. Missing Values"
   ]
  },
  {
   "cell_type": "code",
   "execution_count": 123,
   "metadata": {
    "collapsed": false
   },
   "outputs": [
    {
     "data": {
      "text/plain": [
       "PassengerId      0\n",
       "Survived         0\n",
       "Pclass           0\n",
       "Name             0\n",
       "Sex              0\n",
       "Age              0\n",
       "SibSp            0\n",
       "Parch            0\n",
       "Ticket           0\n",
       "Fare             0\n",
       "Cabin          687\n",
       "Embarked         0\n",
       "IsAlone          0\n",
       "Age_Bracket      0\n",
       "dtype: int64"
      ]
     },
     "execution_count": 123,
     "metadata": {},
     "output_type": "execute_result"
    }
   ],
   "source": [
    "df.isnull().sum()"
   ]
  },
  {
   "cell_type": "code",
   "execution_count": 124,
   "metadata": {
    "collapsed": false
   },
   "outputs": [
    {
     "name": "stdout",
     "output_type": "stream",
     "text": [
      "Most Passengers embarked from: Southampton\n"
     ]
    }
   ],
   "source": [
    "# Working with 'Embarked'\n",
    "print 'Most Passengers embarked from:', df.Embarked.value_counts().argmax()"
   ]
  },
  {
   "cell_type": "code",
   "execution_count": 65,
   "metadata": {
    "collapsed": false
   },
   "outputs": [],
   "source": [
    "df.Embarked = df.Embarked.fillna('S')"
   ]
  },
  {
   "cell_type": "markdown",
   "metadata": {},
   "source": [
    "<p>&#9642; Since there are two rows that are missing the information on embarked port city, I decided to insert the most occuring value from the dataframe.</p>"
   ]
  },
  {
   "cell_type": "code",
   "execution_count": 10,
   "metadata": {
    "collapsed": false
   },
   "outputs": [
    {
     "name": "stdout",
     "output_type": "stream",
     "text": [
      "Missing Age Count:  177\n",
      "Missing Age %:  0.198653198653\n"
     ]
    }
   ],
   "source": [
    "# Working with 'Ages'\n",
    "missing_ages = df.isnull()['Age'].sum()\n",
    "print 'Missing Age Count: ',missing_ages\n",
    "print 'Missing Age %: ',missing_ages/float(len(df.index))"
   ]
  },
  {
   "cell_type": "code",
   "execution_count": 11,
   "metadata": {
    "collapsed": false
   },
   "outputs": [
    {
     "name": "stdout",
     "output_type": "stream",
     "text": [
      "Mean of Age :  29.6991176471\n"
     ]
    }
   ],
   "source": [
    "mean_age = df.Age.mean()\n",
    "print 'Mean of Age : ', mean_age\n",
    "df.Age = df.Age.fillna(mean_age)"
   ]
  },
  {
   "cell_type": "markdown",
   "metadata": {},
   "source": [
    "<p>&#9642; We are missing 19% of the ages for the given passengers. I decided to use the <b>mean</b> to fill the missing values in the 'Age' column of the data."
   ]
  },
  {
   "cell_type": "markdown",
   "metadata": {},
   "source": [
    "### 4d. New Variable\n",
    "\n",
    "### * Age_Bracket\n",
    "\n",
    "We wanted to differentiate the passenger's age based on stage of life such as infants, young adult, etc.\n",
    "\n",
    "The following is the definition for classification:\n",
    "\n",
    "    INFANT: [0 - 1]\n",
    "    TODDLER: (1 - 6] \n",
    "    CHILD: (6 - 13]\n",
    "    ADOLESCENT: (13 - 19]\n",
    "    YOUNG_ADULT: (19 - 39]\n",
    "    MIDDLE_ADULT: (39 - 64]\n",
    "    SENIOR: [65, 80]"
   ]
  },
  {
   "cell_type": "code",
   "execution_count": 19,
   "metadata": {
    "collapsed": false
   },
   "outputs": [
    {
     "data": {
      "text/html": [
       "<div>\n",
       "<table border=\"1\" class=\"dataframe\">\n",
       "  <thead>\n",
       "    <tr style=\"text-align: right;\">\n",
       "      <th></th>\n",
       "      <th>PassengerId</th>\n",
       "      <th>Survived</th>\n",
       "      <th>Pclass</th>\n",
       "      <th>Name</th>\n",
       "      <th>Sex</th>\n",
       "      <th>Age</th>\n",
       "      <th>SibSp</th>\n",
       "      <th>Parch</th>\n",
       "      <th>Ticket</th>\n",
       "      <th>Fare</th>\n",
       "      <th>Cabin</th>\n",
       "      <th>Embarked</th>\n",
       "      <th>IsAlone</th>\n",
       "      <th>Age_Bracket</th>\n",
       "    </tr>\n",
       "  </thead>\n",
       "  <tbody>\n",
       "    <tr>\n",
       "      <th>889</th>\n",
       "      <td>890</td>\n",
       "      <td>1</td>\n",
       "      <td>1</td>\n",
       "      <td>Behr, Mr. Karl Howell</td>\n",
       "      <td>male</td>\n",
       "      <td>26.0</td>\n",
       "      <td>0</td>\n",
       "      <td>0</td>\n",
       "      <td>111369</td>\n",
       "      <td>30.00</td>\n",
       "      <td>C148</td>\n",
       "      <td>C</td>\n",
       "      <td>1</td>\n",
       "      <td>Young Adult</td>\n",
       "    </tr>\n",
       "    <tr>\n",
       "      <th>890</th>\n",
       "      <td>891</td>\n",
       "      <td>0</td>\n",
       "      <td>3</td>\n",
       "      <td>Dooley, Mr. Patrick</td>\n",
       "      <td>male</td>\n",
       "      <td>32.0</td>\n",
       "      <td>0</td>\n",
       "      <td>0</td>\n",
       "      <td>370376</td>\n",
       "      <td>7.75</td>\n",
       "      <td>NaN</td>\n",
       "      <td>Q</td>\n",
       "      <td>1</td>\n",
       "      <td>Young Adult</td>\n",
       "    </tr>\n",
       "  </tbody>\n",
       "</table>\n",
       "</div>"
      ],
      "text/plain": [
       "     PassengerId  Survived  Pclass                   Name   Sex   Age  SibSp  \\\n",
       "889          890         1       1  Behr, Mr. Karl Howell  male  26.0      0   \n",
       "890          891         0       3    Dooley, Mr. Patrick  male  32.0      0   \n",
       "\n",
       "     Parch  Ticket   Fare Cabin Embarked  IsAlone  Age_Bracket  \n",
       "889      0  111369  30.00  C148        C        1  Young Adult  \n",
       "890      0  370376   7.75   NaN        Q        1  Young Adult  "
      ]
     },
     "execution_count": 19,
     "metadata": {},
     "output_type": "execute_result"
    }
   ],
   "source": [
    "def age_bracket(x):\n",
    "    if x <= 1.0:\n",
    "        return 'Infant'\n",
    "    elif x <= 6:\n",
    "        return 'Toddler'\n",
    "    elif x <= 13:\n",
    "        return 'Child'\n",
    "    elif x <= 19:\n",
    "        return 'Adolescent'\n",
    "    elif x <= 39:\n",
    "        return 'Young Adult'\n",
    "    elif x <= 64:\n",
    "        return 'Middle Adult'\n",
    "    elif x > 64:\n",
    "        return 'Senior'\n",
    "    else:\n",
    "        return np.nan\n",
    "df['Age_Bracket'] = pd.Series(df.Age.apply(age_bracket), index=df.index)\n",
    "df.tail(2)"
   ]
  },
  {
   "cell_type": "markdown",
   "metadata": {},
   "source": [
    "### * Decks\n",
    "\n",
    "From examining the structure earlier, the initial character represented the information regarding the which deck the passenger was on. It appears that the boats were located at the peak deck of the Titanic with 'A' deck as the next highest. I thought the deck information would be useful for later investigation since time to reach the boat deck would be crucial in such event."
   ]
  },
  {
   "cell_type": "code",
   "execution_count": 20,
   "metadata": {
    "collapsed": false
   },
   "outputs": [
    {
     "data": {
      "text/plain": [
       "C    59\n",
       "B    47\n",
       "D    33\n",
       "E    32\n",
       "A    15\n",
       "F    13\n",
       "G     4\n",
       "T     1\n",
       "Name: Deck, dtype: int64"
      ]
     },
     "execution_count": 20,
     "metadata": {},
     "output_type": "execute_result"
    }
   ],
   "source": [
    "def write_deck(c):\n",
    "    try:\n",
    "        return c[0]\n",
    "    except TypeError: \n",
    "        return np.nan\n",
    "    \n",
    "df['Deck'] = pd.Series(df['Cabin'].apply(write_deck), index=df.index)\n",
    "count_values('Deck')"
   ]
  },
  {
   "cell_type": "code",
   "execution_count": 21,
   "metadata": {
    "collapsed": false
   },
   "outputs": [
    {
     "data": {
      "text/plain": [
       "0.22895622895622897"
      ]
     },
     "execution_count": 21,
     "metadata": {},
     "output_type": "execute_result"
    }
   ],
   "source": [
    "# Verifying that there was no loss of information from 'Cabin' to 'Deck'...\n",
    "count_values('Deck').sum() == count_values('Cabin').sum()\n",
    "count_values('Deck').values.sum() / float(len(df.index))"
   ]
  },
  {
   "cell_type": "markdown",
   "metadata": {},
   "source": [
    "<p>&#9642; It appears that <b>22% of the given passengers</b> have information regarding their cabin.</p>"
   ]
  },
  {
   "cell_type": "code",
   "execution_count": 24,
   "metadata": {
    "collapsed": false,
    "scrolled": true
   },
   "outputs": [
    {
     "data": {
      "text/plain": [
       "0.59821088230695163"
      ]
     },
     "execution_count": 24,
     "metadata": {},
     "output_type": "execute_result"
    }
   ],
   "source": [
    "temp_df = df[['Deck','Pclass']].dropna()\n",
    "\n",
    "def deck_int(x):\n",
    "    if x == 'A':\n",
    "        return 1\n",
    "    elif x == 'B':\n",
    "        return 2\n",
    "    elif x == 'C':\n",
    "        return 3\n",
    "    elif x == 'D':\n",
    "        return 4\n",
    "    elif x == 'E':\n",
    "        return 5\n",
    "    elif x == 'F':\n",
    "        return 6\n",
    "    elif x == 'G':\n",
    "        return 7\n",
    "    elif x == 'T':\n",
    "        return 8\n",
    "    \n",
    "temp_df['Deck'] = temp_df['Deck'].apply(deck_int)\n",
    "temp_df['Deck'].corr(temp_df['Pclass'])"
   ]
  },
  {
   "cell_type": "code",
   "execution_count": 25,
   "metadata": {
    "collapsed": false
   },
   "outputs": [
    {
     "name": "stdout",
     "output_type": "stream",
     "text": [
      "Deck  Pclass\n",
      "A     1         15\n",
      "B     1         47\n",
      "C     1         59\n",
      "D     1         29\n",
      "      2          4\n",
      "E     1         25\n",
      "      2          4\n",
      "      3          3\n",
      "F     2          8\n",
      "      3          5\n",
      "G     3          4\n",
      "T     1          1\n",
      "Name: Pclass, dtype: int64\n"
     ]
    }
   ],
   "source": [
    "deck_by_class = df.groupby(['Deck','Pclass'])['Pclass'].count()\n",
    "print deck_by_class"
   ]
  },
  {
   "cell_type": "markdown",
   "metadata": {},
   "source": [
    "<p>&#9642; I converted the decks into an integer ranging from 1 to 8 (highest to lowest deck). We can see a correlation between Pclass and Deck placement. Based on limited information, we can see that the first-class passengers reside on the higher decks of the Titanic. However since there are <b>only 22%</b> of the passengers with cabin information and most of the information was from Pclass=1, I did not use this variable any further.</p>"
   ]
  },
  {
   "cell_type": "markdown",
   "metadata": {},
   "source": [
    "### * IsAlone"
   ]
  },
  {
   "cell_type": "code",
   "execution_count": 26,
   "metadata": {
    "collapsed": false,
    "scrolled": true
   },
   "outputs": [
    {
     "data": {
      "text/plain": [
       "0    678\n",
       "1    118\n",
       "2     80\n",
       "5      5\n",
       "3      5\n",
       "4      4\n",
       "6      1\n",
       "Name: Parch, dtype: int64"
      ]
     },
     "execution_count": 26,
     "metadata": {},
     "output_type": "execute_result"
    }
   ],
   "source": [
    "count_values('Parch')"
   ]
  },
  {
   "cell_type": "code",
   "execution_count": 27,
   "metadata": {
    "collapsed": false
   },
   "outputs": [
    {
     "data": {
      "text/plain": [
       "0    608\n",
       "1    209\n",
       "2     28\n",
       "4     18\n",
       "3     16\n",
       "8      7\n",
       "5      5\n",
       "Name: SibSp, dtype: int64"
      ]
     },
     "execution_count": 27,
     "metadata": {},
     "output_type": "execute_result"
    }
   ],
   "source": [
    "count_values('SibSp')"
   ]
  },
  {
   "cell_type": "code",
   "execution_count": 28,
   "metadata": {
    "collapsed": false
   },
   "outputs": [
    {
     "name": "stdout",
     "output_type": "stream",
     "text": [
      "Passengers with no parent/child and sibling/spouse relations..\n",
      "Count: 537 Percentage: 0.602693602694\n"
     ]
    }
   ],
   "source": [
    "sole_passengers = len(df[(df['Parch']==0) & (df['SibSp']==0)])\n",
    "print 'Passengers with no parent/child and sibling/spouse relations..'\n",
    "print 'Count:', sole_passengers, 'Percentage:',sole_passengers/float(len(df.index))"
   ]
  },
  {
   "cell_type": "code",
   "execution_count": 29,
   "metadata": {
    "collapsed": false
   },
   "outputs": [
    {
     "data": {
      "text/plain": [
       "1    537\n",
       "0    354\n",
       "Name: IsAlone, dtype: int64"
      ]
     },
     "execution_count": 29,
     "metadata": {},
     "output_type": "execute_result"
    }
   ],
   "source": [
    "def IfAlone(row):\n",
    "    if row['SibSp'] == 0 and row['Parch'] ==0:\n",
    "        val = 1\n",
    "    else:\n",
    "        val = 0\n",
    "    return val\n",
    "\n",
    "df['IsAlone'] = df.apply(IfAlone, axis=1)\n",
    "count_values('IsAlone')"
   ]
  },
  {
   "cell_type": "markdown",
   "metadata": {},
   "source": [
    "<p>&#9642; I decided to create this variable since majority of our examined data showed that passengers tend to either not have any parent/child or sibling/spouse relations. It also showed that <b>60% of the given passangers</b> traveled alone with no family relations whatsoever.</p>"
   ]
  },
  {
   "cell_type": "markdown",
   "metadata": {},
   "source": [
    "# 5. Analysis"
   ]
  },
  {
   "cell_type": "markdown",
   "metadata": {},
   "source": [
    "### 5a. Are female passengers and infants are more likely to survive? "
   ]
  },
  {
   "cell_type": "code",
   "execution_count": 30,
   "metadata": {
    "collapsed": false
   },
   "outputs": [
    {
     "name": "stdout",
     "output_type": "stream",
     "text": [
      "Populating the interactive namespace from numpy and matplotlib\n"
     ]
    },
    {
     "data": {
      "image/png": "[encoded data removed]",
      "text/plain": [
       "<matplotlib.figure.Figure at 0x11a088b10>"
      ]
     },
     "metadata": {},
     "output_type": "display_data"
    }
   ],
   "source": [
    "%pylab inline\n",
    "age_histogram = df.hist('Age', bins = 30)"
   ]
  },
  {
   "cell_type": "code",
   "execution_count": 31,
   "metadata": {
    "collapsed": false
   },
   "outputs": [
    {
     "data": {
      "text/plain": [
       "<matplotlib.text.Text at 0x11a880d10>"
      ]
     },
     "execution_count": 31,
     "metadata": {},
     "output_type": "execute_result"
    },
    {
     "data": {
      "image/png": "[encoded data removed]",
      "text/plain": [
       "<matplotlib.figure.Figure at 0x11a7b9150>"
      ]
     },
     "metadata": {},
     "output_type": "display_data"
    }
   ],
   "source": [
    "order = ['Infant', 'Toddler','Child','Adolescent','Young Adult','Middle Adult','Senior']\n",
    "age_bracket_hist = sns.factorplot(x = \"Age_Bracket\", data=df, order = order, kind = 'count')\n",
    "age_bracket_hist.set_xticklabels(rotation=70)\n",
    "age_bracket_hist.fig.suptitle('Age_Bracket Count')"
   ]
  },
  {
   "cell_type": "code",
   "execution_count": 32,
   "metadata": {
    "collapsed": false
   },
   "outputs": [
    {
     "data": {
      "text/plain": [
       "<matplotlib.text.Text at 0x119fe3e10>"
      ]
     },
     "execution_count": 32,
     "metadata": {},
     "output_type": "execute_result"
    },
    {
     "data": {
      "image/png": "[encoded data removed]",
      "text/plain": [
       "<matplotlib.figure.Figure at 0x11a8eb110>"
      ]
     },
     "metadata": {},
     "output_type": "display_data"
    }
   ],
   "source": [
    "# Plotting the count of gender\n",
    "sex_histogram = sns.factorplot('Sex', data = df, kind = 'count')\n",
    "sex_histogram.fig.suptitle('Count of Sex')"
   ]
  },
  {
   "cell_type": "code",
   "execution_count": 33,
   "metadata": {
    "collapsed": false
   },
   "outputs": [
    {
     "data": {
      "text/plain": [
       "<matplotlib.text.Text at 0x11a9ec610>"
      ]
     },
     "execution_count": 33,
     "metadata": {},
     "output_type": "execute_result"
    },
    {
     "data": {
      "image/png": "[encoded data removed]",
      "text/plain": [
       "<matplotlib.figure.Figure at 0x11a9ec1d0>"
      ]
     },
     "metadata": {},
     "output_type": "display_data"
    }
   ],
   "source": [
    "sex_by_survival = sns.factorplot(x = \"Sex\", data=df, hue = \"Survived\",  kind = 'count')\n",
    "sex_by_survival.fig.suptitle('Sex by Survival')"
   ]
  },
  {
   "cell_type": "code",
   "execution_count": 38,
   "metadata": {
    "collapsed": false
   },
   "outputs": [
    {
     "name": "stdout",
     "output_type": "stream",
     "text": [
      "      Sex  Survived\n",
      "1    male  0.188908\n",
      "0  female  0.742038\n"
     ]
    }
   ],
   "source": [
    "def by_survival(variable):\n",
    "    return df[[variable, 'Survived']].groupby(variable,as_index=False).mean().sort_values(by='Survived')\n",
    "\n",
    "print by_survival('Sex')"
   ]
  },
  {
   "cell_type": "code",
   "execution_count": 39,
   "metadata": {
    "collapsed": false,
    "scrolled": true
   },
   "outputs": [
    {
     "data": {
      "text/plain": [
       "(0, 0.06)"
      ]
     },
     "execution_count": 39,
     "metadata": {},
     "output_type": "execute_result"
    },
    {
     "data": {
      "image/png": "[encoded data removed]",
      "text/plain": [
       "<matplotlib.figure.Figure at 0x11abe3790>"
      ]
     },
     "metadata": {},
     "output_type": "display_data"
    }
   ],
   "source": [
    "df[df['Survived'] == 1].Age\n",
    "age_by_survival = sns.distplot(df[df['Survived'] == 1].Age,hist= False,label = \"Survived\")\n",
    "age_by_survival = sns.distplot(df[df['Survived'] == 0].Age,hist = False, label = \"Died\")\n",
    "age_by_survival.set_title('Age by Survival Distribution')\n",
    "pylab.xlim([0,80])\n",
    "pylab.ylim([0,.06])"
   ]
  },
  {
   "cell_type": "markdown",
   "metadata": {},
   "source": [
    "<p>&#9642; The plots shown above displays the given passenger's age factored by sex and whether he or she survived. We can verify that although we have more males, males (particularly younger) have a <b>lower survival rate</b> compared to females. We see a a noticeable gap in infants survival rate as well. </p>"
   ]
  },
  {
   "cell_type": "markdown",
   "metadata": {},
   "source": [
    "### 5b. Does social-economic status (SES) affect the survival rate?"
   ]
  },
  {
   "cell_type": "code",
   "execution_count": 40,
   "metadata": {
    "collapsed": false
   },
   "outputs": [
    {
     "data": {
      "text/plain": [
       "<matplotlib.text.Text at 0x11aced610>"
      ]
     },
     "execution_count": 40,
     "metadata": {},
     "output_type": "execute_result"
    },
    {
     "data": {
      "image/png": "[encoded data removed]",
      "text/plain": [
       "<matplotlib.figure.Figure at 0x11ab92e10>"
      ]
     },
     "metadata": {},
     "output_type": "display_data"
    }
   ],
   "source": [
    "pclass_hist = sns.factorplot('Pclass', data = df, kind = 'count')\n",
    "pclass_hist.fig.suptitle('Count of Pclass')"
   ]
  },
  {
   "cell_type": "code",
   "execution_count": 41,
   "metadata": {
    "collapsed": false
   },
   "outputs": [
    {
     "data": {
      "text/plain": [
       "<matplotlib.text.Text at 0x11b144110>"
      ]
     },
     "execution_count": 41,
     "metadata": {},
     "output_type": "execute_result"
    },
    {
     "data": {
      "image/png": "[encoded data removed]",
      "text/plain": [
       "<matplotlib.figure.Figure at 0x11aa8ef50>"
      ]
     },
     "metadata": {},
     "output_type": "display_data"
    }
   ],
   "source": [
    "pclass_by_sex = sns.factorplot(x = \"Pclass\", data=df, hue = \"Survived\",  kind = 'count')\n",
    "pclass_by_sex.fig.suptitle('Pclass by Sex')"
   ]
  },
  {
   "cell_type": "code",
   "execution_count": 42,
   "metadata": {
    "collapsed": false
   },
   "outputs": [
    {
     "data": {
      "text/plain": [
       "3    0.551066\n",
       "1    0.242424\n",
       "2    0.206510\n",
       "Name: Pclass, dtype: float64"
      ]
     },
     "execution_count": 42,
     "metadata": {},
     "output_type": "execute_result"
    }
   ],
   "source": [
    "# Calculating the percentage of Pclass to total given passengers.\n",
    "count_values('Pclass')/float(len(df.index))"
   ]
  },
  {
   "cell_type": "code",
   "execution_count": 43,
   "metadata": {
    "collapsed": false,
    "scrolled": true
   },
   "outputs": [
    {
     "name": "stdout",
     "output_type": "stream",
     "text": [
      "   Pclass  Survived\n",
      "2       3  0.242363\n",
      "1       2  0.472826\n",
      "0       1  0.629630\n"
     ]
    }
   ],
   "source": [
    "print by_survival('Pclass')"
   ]
  },
  {
   "cell_type": "markdown",
   "metadata": {
    "collapsed": false
   },
   "source": [
    "<p>&#9642; Based on the information, first class passengers tend to have a higher survival rate. We can see that the socio-economic status of the passengers did play some role on the survival rate.</p>"
   ]
  },
  {
   "cell_type": "markdown",
   "metadata": {},
   "source": [
    "### 5c. Does having family relations tend to have a higher survival rate?"
   ]
  },
  {
   "cell_type": "code",
   "execution_count": 44,
   "metadata": {
    "collapsed": false
   },
   "outputs": [
    {
     "data": {
      "text/plain": [
       "<matplotlib.text.Text at 0x11b0ea510>"
      ]
     },
     "execution_count": 44,
     "metadata": {},
     "output_type": "execute_result"
    },
    {
     "data": {
      "image/png": "[encoded data removed]",
      "text/plain": [
       "<matplotlib.figure.Figure at 0x11abb5ad0>"
      ]
     },
     "metadata": {},
     "output_type": "display_data"
    }
   ],
   "source": [
    "alone_by_survival = sns.factorplot(x = \"IsAlone\", data=df, hue = \"Survived\",  kind = 'count')\n",
    "alone_by_survival.fig.suptitle('Sole/Accompanied Passengers by Survival')"
   ]
  },
  {
   "cell_type": "code",
   "execution_count": 45,
   "metadata": {
    "collapsed": false
   },
   "outputs": [
    {
     "name": "stdout",
     "output_type": "stream",
     "text": [
      "Count: \n",
      "1    537\n",
      "0    354\n",
      "Name: IsAlone, dtype: int64 \n",
      "\n",
      "Percentage: \n",
      "1    0.602694\n",
      "0    0.397306\n",
      "Name: IsAlone, dtype: float64\n"
     ]
    }
   ],
   "source": [
    "print 'Count:','\\n',count_values('IsAlone'),'\\n','\\n','Percentage:','\\n',count_values('IsAlone')/float(len(df.index))"
   ]
  },
  {
   "cell_type": "code",
   "execution_count": 46,
   "metadata": {
    "collapsed": false,
    "scrolled": true
   },
   "outputs": [
    {
     "name": "stdout",
     "output_type": "stream",
     "text": [
      "   IsAlone  Survived\n",
      "1        1  0.303538\n",
      "0        0  0.505650\n"
     ]
    }
   ],
   "source": [
    "print by_survival('IsAlone')"
   ]
  },
  {
   "cell_type": "code",
   "execution_count": 47,
   "metadata": {
    "collapsed": false,
    "scrolled": true
   },
   "outputs": [
    {
     "data": {
      "text/plain": [
       "<matplotlib.text.Text at 0x11abe39d0>"
      ]
     },
     "execution_count": 47,
     "metadata": {},
     "output_type": "execute_result"
    },
    {
     "data": {
      "image/png": "[encoded data removed]",
      "text/plain": [
       "<matplotlib.figure.Figure at 0x11abe3b90>"
      ]
     },
     "metadata": {},
     "output_type": "display_data"
    }
   ],
   "source": [
    "alone_by_sex = sns.factorplot(x = \"IsAlone\", data=df, hue = \"Sex\",  kind = 'count')\n",
    "alone_by_sex.fig.suptitle('Sole/Accompanied Passengers by Sex')"
   ]
  },
  {
   "cell_type": "code",
   "execution_count": 48,
   "metadata": {
    "collapsed": false,
    "scrolled": true
   },
   "outputs": [
    {
     "data": {
      "text/plain": [
       "IsAlone  Sex     Survived\n",
       "0        female  0            54\n",
       "                 1           134\n",
       "         male    0           121\n",
       "                 1            45\n",
       "1        female  0            27\n",
       "                 1            99\n",
       "         male    0           347\n",
       "                 1            64\n",
       "Name: Survived, dtype: int64"
      ]
     },
     "execution_count": 48,
     "metadata": {},
     "output_type": "execute_result"
    }
   ],
   "source": [
    "df.groupby(['IsAlone','Sex', 'Survived'])['Survived'].count()"
   ]
  },
  {
   "cell_type": "markdown",
   "metadata": {},
   "source": [
    "<p>&#9642; We can see that a given passenger with family relations has a higher survival rate. A sole male passenger tended to have the least likely survival rate.</p>"
   ]
  },
  {
   "cell_type": "markdown",
   "metadata": {},
   "source": [
    "### 5d. Did port of embarkment have any impact on survival rate?"
   ]
  },
  {
   "cell_type": "code",
   "execution_count": 49,
   "metadata": {
    "collapsed": false
   },
   "outputs": [
    {
     "data": {
      "text/plain": [
       "<matplotlib.text.Text at 0x116bac290>"
      ]
     },
     "execution_count": 49,
     "metadata": {},
     "output_type": "execute_result"
    },
    {
     "data": {
      "image/png": "[encoded data removed]",
      "text/plain": [
       "<matplotlib.figure.Figure at 0x11b0ead50>"
      ]
     },
     "metadata": {},
     "output_type": "display_data"
    }
   ],
   "source": [
    "embarked_by_survival = sns.factorplot(x = \"Embarked\", data=df, hue = \"Survived\",  kind = 'count')\n",
    "embarked_by_survival.fig.suptitle('Embarked by Survival')"
   ]
  },
  {
   "cell_type": "code",
   "execution_count": 50,
   "metadata": {
    "collapsed": false
   },
   "outputs": [
    {
     "name": "stdout",
     "output_type": "stream",
     "text": [
      "Count:\n",
      "S    0.722783\n",
      "C    0.188552\n",
      "Q    0.086420\n",
      "Name: Embarked, dtype: float64 \n",
      "\n",
      "  Embarked  Survived\n",
      "2        S  0.336957\n",
      "1        Q  0.389610\n",
      "0        C  0.553571\n"
     ]
    }
   ],
   "source": [
    "print 'Count:'\n",
    "print count_values('Embarked')/float(len(df.index)),'\\n'\n",
    "print by_survival('Embarked')"
   ]
  },
  {
   "cell_type": "code",
   "execution_count": 51,
   "metadata": {
    "collapsed": false
   },
   "outputs": [
    {
     "name": "stdout",
     "output_type": "stream",
     "text": [
      "Embarked  Pclass\n",
      "C         1         0.505952\n",
      "          2         0.101190\n",
      "          3         0.392857\n",
      "Name: Pclass, dtype: float64 \n",
      "\n",
      "Embarked  Pclass\n",
      "Q         1         0.025974\n",
      "          2         0.038961\n",
      "          3         0.935065\n",
      "Name: Pclass, dtype: float64 \n",
      "\n",
      "Embarked  Pclass\n",
      "S         1         0.197205\n",
      "          2         0.254658\n",
      "          3         0.548137\n",
      "Name: Pclass, dtype: float64\n"
     ]
    }
   ],
   "source": [
    "port_by_pclass = df.groupby(['Embarked','Pclass'])['Pclass'].count()\n",
    "\n",
    "c = port_by_pclass[0:3]\n",
    "print c/c.sum(),'\\n'\n",
    "q = port_by_pclass[3:6]\n",
    "print q/q.sum(), '\\n'\n",
    "s = port_by_pclass[6:]\n",
    "print s/s.sum()"
   ]
  },
  {
   "cell_type": "markdown",
   "metadata": {},
   "source": [
    "<p>&#9642; It shows that although <b>more than 70%</b> of given passengers embarked from Southampton, the 18% of the given passengers from Cherbourg had a higher survival rate. For further investigation, I decided to group the data by 'Embarked' and 'Pclass'. It is shown that <b>almost half of the passengers</b> from Cherbourg were 1st class whereas majority of the passengers from Southampton and Queenstown were 3rd class.</p>"
   ]
  },
  {
   "cell_type": "markdown",
   "metadata": {},
   "source": [
    "### 5e. Which variables have a strong correlation with one another?"
   ]
  },
  {
   "cell_type": "code",
   "execution_count": 52,
   "metadata": {
    "collapsed": false
   },
   "outputs": [],
   "source": [
    "# Convert 'Sex' to 0 for female, 1 for male...\n",
    "df['Sex'] = df['Sex'].map({'female':0,'male':1}).astype(int)"
   ]
  },
  {
   "cell_type": "code",
   "execution_count": 53,
   "metadata": {
    "collapsed": false,
    "scrolled": true
   },
   "outputs": [
    {
     "data": {
      "image/png": "[encoded data removed]",
      "text/plain": [
       "<matplotlib.figure.Figure at 0x11b208210>"
      ]
     },
     "metadata": {},
     "output_type": "display_data"
    }
   ],
   "source": [
    "corr = df.drop('PassengerId', axis=1).corr()\n",
    "\n",
    "mask = np.zeros_like(corr, dtype=np.bool)\n",
    "mask[np.triu_indices_from(mask)] = True\n",
    "\n",
    "f, ax = plt.subplots(figsize=(11, 9))\n",
    "cmap = sns.diverging_palette(200, 10, as_cmap=True)\n",
    "\n",
    "sns.heatmap(corr, mask=mask, cmap=cmap, vmax=.35, center=0,\n",
    "            square=True, linewidths=.2, cbar_kws={\"shrink\": .5}).set_title('Titanic Variable Heatmap')\n",
    "\n",
    "plt.show()"
   ]
  },
  {
   "cell_type": "markdown",
   "metadata": {},
   "source": [
    "<b>Observation:</b>\n",
    "<br>\n",
    "<p>&#9642; Females (Sex = 0) have a strong correlation with Survival=1.<br>\n",
    "&#9642; Pclass = 1 tend to show increasing fare price.<br>\n",
    "&#9642; Parch and SibSp have a strong correlation.<br>\n",
    "&#9642; It would make sense to have a strong negative correlation between IsAlone and SibSp/Parch.<br>\n",
    "&#9642; Male passengers are more likely to be alone.</p>"
   ]
  },
  {
   "cell_type": "markdown",
   "metadata": {},
   "source": [
    "## 6. Conclusion\n",
    "\n",
    "We were given ~40% of the total passengers that boarded the Titanic and ~38% of the passengers survived from the given data. Throughout this project, we were able to examine the overall structure, perform data wrangling, and use statistical analysis and visualizations to induce findings such as...\n",
    "<br>\n",
    "<p>&#9642; <b>Females and infants</b> tended to have a higher survival rate.<br>\n",
    "&#9642; Passengers <b>with family relations</b> displayed a higher survival rate.<br>\n",
    "&#9642; <b>1st class passengers</b> showed a higher survival rate<br>\n",
    "&#9642; <b>Cherbourg</b> displayed a higher survival rate.<br>\n",
    "<br>\n",
    "In terms of limitations of the dataset, there were <b>only 22%</b> of the given passengers with information regarding cabin and majority of that information came from 1st class passengers. If more information were given, I would like to analyze and test whether the passengers survived based on their relative distance from the accessways to the boats."
   ]
  },
  {
   "cell_type": "markdown",
   "metadata": {},
   "source": [
    "## 7. Reference\n",
    "https://stackoverflow.com/questions/21702342/creating-a-new-column-based-on-if-elif-else-condition<br>\n",
    "https://en.wikipedia.org/wiki/Lifeboats_of_the_RMS_Titanic<br>\n",
    "https://www.ma.utexas.edu/users/mks/statmistakes/skeweddistributions.html<br>\n",
    "https://stackoverflow.com/questions/22391433/count-the-frequency-that-a-value-occurs-in-a-dataframe-colum<br>\n",
    "https://stackoverflow.com/questions/14162723/replacing-pandas-or-numpy-nan-with-a-none-to-use-with-mysqldb<br>\n",
    "https://pandas.pydata.org/pandas-docs/stable/generated/pandas.DataFrame.where.html\n",
    "https://en.wikipedia.org/wiki/Child_development<br>\n",
    "https://en.wikipedia.org/wiki/Young_adult_(psychology)<br>\n",
    "https://stackoverflow.com/questions/21202652/getting-all-rows-with-nan-value<br>\n",
    "https://seaborn.pydata.org/generated/seaborn.FacetGrid.html<br>\n",
    "http://pandas.pydata.org/pandas-docs/version/0.17.0/generated/pandas.Series.map.html<br>\n",
    "https://stackoverflow.com/questions/16476924/how-to-iterate-over-rows-in-a-dataframe-in-pandas<br>\n",
    "http://seaborn.pydata.org/examples/many_pairwise_correlations.html<br>\n",
    "https://stackoverflow.com/questions/29813694/how-to-add-a-title-to-seaborn-facet-plot<br>\n",
    "https://stackoverflow.com/questions/42406233/how-to-add-title-to-seaborn-boxplot<br>"
   ]
  },
  {
   "cell_type": "code",
   "execution_count": null,
   "metadata": {
    "collapsed": true
   },
   "outputs": [],
   "source": []
  }
 ],
 "metadata": {
  "anaconda-cloud": {},
  "kernelspec": {
   "display_name": "Python [py27]",
   "language": "python",
   "name": "Python [py27]"
  },
  "language_info": {
   "codemirror_mode": {
    "name": "ipython",
    "version": 2
   },
   "file_extension": ".py",
   "mimetype": "text/x-python",
   "name": "python",
   "nbconvert_exporter": "python",
   "pygments_lexer": "ipython2",
   "version": "2.7.13"
  }
 },
 "nbformat": 4,
 "nbformat_minor": 0
}
