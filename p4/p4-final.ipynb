{
 "cells": [
  {
   "cell_type": "markdown",
   "metadata": {},
   "source": [
    "# Case Study: OpenStreetMap Data\n",
    "### Author:  Daniel J. Lee\n",
    "### Date: September 11, 2017"
   ]
  },
  {
   "cell_type": "markdown",
   "metadata": {},
   "source": [
    "## 1. Purpose\n",
    "\n",
    "The purpose of this case study is to examine the process of auditing the OpenStreetMap XML data for <b>Atlanta, GA</b>. The process involved examining the overall structure and cleaning issues in our data. The XML data was later converted into CSV format and submitted to <b>sqlite3</b> for further analysis."
   ]
  },
  {
   "cell_type": "markdown",
   "metadata": {},
   "source": [
    "## 2. Format\n",
    "<br>\n",
    "<p> <img src=\"https://i.imgur.com/aXRID8j.png\" align=\"left\" style=\"width: 40%; height: 40%\"></p>\n",
    "<br>"
   ]
  },
  {
   "cell_type": "markdown",
   "metadata": {},
   "source": [
    "<li type=\"square\"><b>atlanta_georgia.osm - [289.9 MB]</b> - The OSM extract of Atlanta, GA that was obtained from [Mapzen](https://mapzen.com/data/metro-extracts/metro/atlanta_georgia/). I chose Atlanta, GA specifically because I wanted to know more about the city I am from.</li>\n",
    "<li type=\"square\"><b>sample.osm - [73.3 MB]</b> - Due to issues of running the original OSM extract on the local computer, we decided to use a portion of the OSM data using <i>create_sample.py</i></li>\n",
    "<li type=\"square\"><b>analysis.py</b> - Included to count the number of various elements in our OSM file.</li>\n",
    "<li type=\"square\"><b>audit.py</b> - Various functions to clean our data with format issues.</li>\n",
    "<li type=\"square\"><b>schema.py</b> - Used to validate our structure when importing to CSV</li>\n",
    "<li type=\"square\"><b>main.py</b> - Processes OSM, cleans, and convert to CSV</li>"
   ]
  },
  {
   "cell_type": "markdown",
   "metadata": {},
   "source": [
    "The following is an sample of the OSM XML file:"
   ]
  },
  {
   "cell_type": "code",
   "execution_count": null,
   "metadata": {
    "collapsed": true
   },
   "outputs": [],
   "source": [
    "<way changeset=\"438149\" id=\"6254528\" timestamp=\"2007-09-16T02:16:49Z\" uid=\"7168\" user=\"DaveHansenTiger\" version=\"1\">\n",
    "\t<nd ref=\"52390437\" />\n",
    "\t<nd ref=\"52390439\" />\n",
    "\t<nd ref=\"52390441\" />\n",
    "\t<nd ref=\"52390443\" />\n",
    "\t<nd ref=\"52390444\" />\n",
    "\t<nd ref=\"52390446\" />\n",
    "\t<tag k=\"highway\" v=\"residential\" />\n",
    "\t<tag k=\"tiger:cfcc\" v=\"A41\" />\n",
    "\t<tag k=\"tiger:tlid\" v=\"3061719\" />\n",
    "\t<tag k=\"tiger:county\" v=\"Chambers, AL\" />\n",
    "\t<tag k=\"tiger:source\" v=\"tiger_import_dch_v0.6_20070808\" />\n",
    "\t<tag k=\"tiger:reviewed\" v=\"no\" />\n",
    "\t<tag k=\"tiger:separated\" v=\"no\" />\n",
    "\t<tag k=\"tiger:upload_uuid\" v=\"bulk_upload.pl-c08d5681-dfbe-4263-a58f-d8cbd01bee56\" />\n",
    "</way>"
   ]
  },
  {
   "cell_type": "markdown",
   "metadata": {},
   "source": [
    "<li type=\"square\">We want to convert the file to the format (e.g way, way_nodes, way_tags): </li>"
   ]
  },
  {
   "cell_type": "code",
   "execution_count": null,
   "metadata": {
    "collapsed": true
   },
   "outputs": [],
   "source": [
    "{'way': {'id': 209809850,\n",
    "         'user': 'chicago-buildings',\n",
    "         'uid': 674454,\n",
    "         'version': '1',\n",
    "         'timestamp': '2013-03-13T15:58:04Z',\n",
    "         'changeset': 15353317},\n",
    " 'way_nodes': [{'id': 209809850, 'node_id': 2199822281, 'position': 0},\n",
    "               {'id': 209809850, 'node_id': 2199822390, 'position': 1},\n",
    "               {'id': 209809850, 'node_id': 2199822392, 'position': 2},\n",
    "               {'id': 209809850, 'node_id': 2199822369, 'position': 3},\n",
    "               {'id': 209809850, 'node_id': 2199822370, 'position': 4},\n",
    "               {'id': 209809850, 'node_id': 2199822284, 'position': 5},\n",
    "               {'id': 209809850, 'node_id': 2199822281, 'position': 6}],\n",
    " 'way_tags': [{'id': 209809850,\n",
    "               'key': 'housenumber',\n",
    "               'type': 'addr',\n",
    "               'value': '1412'},\n",
    "              {'id': 209809850,\n",
    "               'key': 'street',\n",
    "               'type': 'addr',\n",
    "               'value': 'West Lexington St.'},\n",
    "              {'id': 209809850,\n",
    "               'key': 'street:name',\n",
    "               'type': 'addr',\n",
    "               'value': 'Lexington'},\n",
    "              {'id': '209809850',\n",
    "               'key': 'street:prefix',\n",
    "               'type': 'addr',\n",
    "               'value': 'West'},\n",
    "              {'id': 209809850,\n",
    "               'key': 'street:type',\n",
    "               'type': 'addr',\n",
    "               'value': 'Street'},\n",
    "              {'id': 209809850,\n",
    "               'key': 'building',\n",
    "               'type': 'regular',\n",
    "               'value': 'yes'},\n",
    "              {'id': 209809850,\n",
    "               'key': 'levels',\n",
    "               'type': 'building',\n",
    "               'value': '1'},\n",
    "              {'id': 209809850,\n",
    "               'key': 'building_id',\n",
    "               'type': 'chicago',\n",
    "               'value': '366409'}]}"
   ]
  },
  {
   "cell_type": "markdown",
   "metadata": {},
   "source": [
    "## 3. Analysis\n",
    "\n",
    "A better understanding of the data was required before cleaning and writing the file to CSV. The following functions are stored in <b>analysis.py</b> were used to kept track of the occurance using dictionaries for each element and their respective tags."
   ]
  },
  {
   "cell_type": "markdown",
   "metadata": {},
   "source": [
    "### 3a. Definition"
   ]
  },
  {
   "cell_type": "code",
   "execution_count": null,
   "metadata": {
    "collapsed": true
   },
   "outputs": [],
   "source": [
    "count_tag(tree)\n",
    "\n",
    "{'member': 966,\n",
    " 'nd': 348328,\n",
    " 'node': 305187,\n",
    " 'osm': 1,\n",
    " 'relation': 167,\n",
    " 'tag': 153954,\n",
    " 'way': 37391}"
   ]
  },
  {
   "cell_type": "markdown",
   "metadata": {},
   "source": [
    "According to OpenStreetMap Wiki, the basic components of OpenStreetMap's conceptual data model of the physical world are:"
   ]
  },
  {
   "cell_type": "markdown",
   "metadata": {},
   "source": [
    "\n",
    "\n",
    "<li type=\"square\"><b>nodes</b> - define points in space</li>\n",
    "<li type=\"square\"><b>ways</b> - define linear features and area boundaries</li>\n",
    "<li type=\"square\"><b>relations</b> -  explain how other elements work together</li>\n"
   ]
  },
  {
   "cell_type": "markdown",
   "metadata": {},
   "source": [
    "Furthermore, <b>tags</b> are used to define a specific key and value of a element. "
   ]
  },
  {
   "cell_type": "code",
   "execution_count": null,
   "metadata": {
    "collapsed": true
   },
   "outputs": [],
   "source": [
    "<tag k=\"name\" v=\"Budd Terrace - Wesley Woods Intermediate Care Facility\" />\n",
    "<tag k=\"amenity\" v=\"hospital\" />"
   ]
  },
  {
   "cell_type": "markdown",
   "metadata": {},
   "source": [
    "<li type=\"square\"><b>nd</b> and <b>member</b> are used to convey further information to describe <b>way</b> and <b>member</b> respectively.</li>"
   ]
  },
  {
   "cell_type": "markdown",
   "metadata": {},
   "source": [
    "### 3b. Structure"
   ]
  },
  {
   "cell_type": "markdown",
   "metadata": {},
   "source": [
    "In order to examine the structure, <b>count_attribute</b> was used to determine the attributes for each element."
   ]
  },
  {
   "cell_type": "code",
   "execution_count": null,
   "metadata": {
    "collapsed": true
   },
   "outputs": [],
   "source": [
    "count_attribute(tree)\n",
    "\n",
    "node\n",
    "{'changeset': 305187,\n",
    " 'id': 305187,\n",
    " 'lat': 305187,\n",
    " 'lon': 305187,\n",
    " 'timestamp': 305187,\n",
    " 'uid': 305187,\n",
    " 'user': 305187,\n",
    " 'version': 305187}\n",
    "node/tag\n",
    "{'k': 13246, 'v': 13246}\n",
    "way\n",
    "{'changeset': 37391,\n",
    " 'id': 37391,\n",
    " 'timestamp': 37391,\n",
    " 'uid': 37391,\n",
    " 'user': 37391,\n",
    " 'version': 37391}\n",
    "way/nd\n",
    "{'ref': 348328}\n",
    "way/tag\n",
    "{'k': 139893, 'v': 139893}"
   ]
  },
  {
   "cell_type": "markdown",
   "metadata": {},
   "source": [
    "The following function <b>unique_key</b> was created in <b>analysis.py</b> to determine the occurances of keys from our tags. I decided to show the 20 highest occurances. There were 397 total unique keys in our sample OSM file."
   ]
  },
  {
   "cell_type": "code",
   "execution_count": null,
   "metadata": {
    "collapsed": true
   },
   "outputs": [],
   "source": [
    "unique_key(tree)\n",
    "\n",
    "[('building', 31783),\n",
    " ('addr:housenumber', 19967),\n",
    " ('addr:street', 19962),\n",
    " ('addr:city', 19894),\n",
    " ('addr:postcode', 19644),\n",
    " ('highway', 4437),\n",
    " ('name', 3012),\n",
    " ('DeKalb:id', 2120),\n",
    " ('tiger:county', 2067),\n",
    " ('tiger:cfcc', 2067),\n",
    " ('source', 1883),\n",
    " ('tiger:name_base', 1809),\n",
    " ('tiger:reviewed', 1773),\n",
    " ('tiger:name_type', 1604),\n",
    " ('tiger:zip_left', 1462),\n",
    " ('tiger:name_direction_suffix', 1457),\n",
    " ('tiger:zip_right', 1428),\n",
    " ('amenity', 1117),\n",
    " ('oneway', 869),\n",
    " ('service', 616)]"
   ]
  },
  {
   "cell_type": "markdown",
   "metadata": {},
   "source": [
    "From <b>analysis.py</b>, I examined the keys using function <b>explore_path</b> to get an understanding of how the values were listed. I decided to focus on the following keys that deemed to have issues. \n",
    "<br>\n",
    "<br>\n",
    "<li type=\"square\"> addr:street </li>\n",
    "<li type=\"square\"> phone </li>\n",
    "<li type=\"square\"> addr:state </li>\n",
    "<li type=\"square\"> addr:postcode </li>\n",
    "<li type=\"square\"> tiger:county </li>\n",
    "<li type=\"square\"> addr:county </li>"
   ]
  },
  {
   "cell_type": "markdown",
   "metadata": {},
   "source": [
    "## 4. Problem Detection\n",
    "\n"
   ]
  },
  {
   "cell_type": "markdown",
   "metadata": {},
   "source": [
    "### 4a. Street Names (addr:street)\n",
    "\n",
    "By carefully examining the dataset, we can see the inconsistencies in the street suffixes - some as abbreviations whereas some not.\n",
    "\n",
    "From <b>audit.py</b>, the function <b>update_street</b> determines whether the passed suffix is registered in variable <b>expected</b> which is our list of suffixes. The variable <b>mapping</b> is used to address and correct abbreviations. Furthermore, a dictionary <b>street_issue</b> was created to keep track of unaddressed issues. <b>street_issue</b> keeps count of street suffixes and examined to determine whether it is an actual suffix or not."
   ]
  },
  {
   "cell_type": "code",
   "execution_count": null,
   "metadata": {
    "collapsed": true
   },
   "outputs": [],
   "source": [
    "expected = [\"Street\", \"Avenue\", \"Boulevard\", \"Drive\", \"Court\", \"Place\", \"Lane\", \"Road\", \n",
    "            \"Trail\", \"Parkway\", \"Ridge\", \"Way\", \"Pass\", \"Look\", \"Creek\", \"Chase\", \"Crossing\",\n",
    "            \"Terrace\", \"Point\", \"Path\", \"Run\", \"Cove\", 'Bend', 'Circle', 'Trace', 'Walk',\n",
    "            \"Southeast\", \"Southwest\", \"Northeast\", \"Northwest\", \"View\", \"Landing\", \"North\",\"East\",\n",
    "            \"South\", \"West\"]"
   ]
  },
  {
   "cell_type": "code",
   "execution_count": null,
   "metadata": {
    "collapsed": true
   },
   "outputs": [],
   "source": [
    "mapping = { \"St\": \"Street\",\n",
    "                \"St.\": \"Street\",\n",
    "                \"Blvd\": \"Boulevard\",\n",
    "                \"Blvd.\": \"Boulevard\",\n",
    "                \"Ave\": \"Avenue\",\n",
    "                \"Ave.\": \"Avenue\",\n",
    "                \"Rd.\": \"Road\",\n",
    "                \"Rd\" : \"Road,\",\n",
    "                \"Dr\" : \"Drive\",\n",
    "                ...\n",
    "                \"Pt\": \"Point\",\n",
    "                \"S\": \"South\",\n",
    "                \"S.\": \"South\",\n",
    "                \"W\": \"West\",\n",
    "                \"W.\": \"West\",\n",
    "                \"N\": \"North\",\n",
    "                \"N.\": \"North\",\n",
    "                \"E\": \"East\",\n",
    "                \"E.\": \"East\",\n",
    "                \"NE\": \"Northeast\",\n",
    "                \"NW\": \"Northwest\",\n",
    "                \"SE\": \"Southeast\",\n",
    "                \"SW\": \"Southwest\",\n",
    "                \"Hts\": \"Heights\",\n",
    "                \"Rte\": \"Route\"}"
   ]
  },
  {
   "cell_type": "markdown",
   "metadata": {},
   "source": [
    "#### Several points came about:"
   ]
  },
  {
   "cell_type": "markdown",
   "metadata": {},
   "source": [
    "<li type=\"square\">Cardinals had to be addressed.</li>\n"
   ]
  },
  {
   "cell_type": "code",
   "execution_count": null,
   "metadata": {
    "collapsed": true
   },
   "outputs": [],
   "source": [
    "Roswell Road NE ==> Roswell Road Northeast"
   ]
  },
  {
   "cell_type": "markdown",
   "metadata": {},
   "source": [
    "<li type=\"square\">Capitalization was a minor issue.</li>"
   ]
  },
  {
   "cell_type": "code",
   "execution_count": null,
   "metadata": {
    "collapsed": true
   },
   "outputs": [],
   "source": [
    "Riverwood SPG ==> Riverwood Spg\n",
    "Waters RUN ==> Waters Run\n",
    "Creel lane ==> Creel Lane"
   ]
  },
  {
   "cell_type": "markdown",
   "metadata": {},
   "source": [
    "<li type=\"square\">There are some street names that do not contain suffixes</li>"
   ]
  },
  {
   "cell_type": "code",
   "execution_count": null,
   "metadata": {
    "collapsed": true
   },
   "outputs": [],
   "source": [
    "{'Addison Park': 'Park',\n",
    " 'Barrow Downs': 'Downs',\n",
    " 'Creekwood': 'Creekwood',\n",
    " 'Diamond Bluff': 'Bluff',\n",
    " 'Dunvegan Close': 'Close',\n",
    " 'Farm Track': 'Track',\n",
    " 'Gable Gate Turn': 'Turn',\n",
    " 'Hope Vine': 'Vine'}"
   ]
  },
  {
   "cell_type": "markdown",
   "metadata": {},
   "source": [
    "#### Conclusion:\n",
    "Overall, we wanted to make sure that the suffix was not abbreviated. We also did not want to flag any suffix that was appropriate (e.g. Avenue). "
   ]
  },
  {
   "cell_type": "markdown",
   "metadata": {},
   "source": [
    "\n",
    "### 4b. Phone Numbers (phone)\n",
    "\n",
    "Phone numbers did not have a standard format. '1+' was often used and spacing was considered an issue. Thus the format: {3}-{3}-{4} was used to keep consistency."
   ]
  },
  {
   "cell_type": "code",
   "execution_count": null,
   "metadata": {
    "collapsed": true
   },
   "outputs": [],
   "source": [
    "Before:\n",
    "+1-404-754-9290\n",
    "+1-404-883-3406\n",
    "(706) 372-2455\n",
    "678-691-5238\n",
    "+1 (770) 612-9423\n",
    "+1 (770) 612-9423\n",
    "1-678-366-3360\n",
    "    \n",
    "After:\n",
    "404-754-9290\n",
    "404-883-3406\n",
    "706-372-2455\n",
    "678-691-5238\n",
    "770-612-9423\n",
    "770-612-9423\n",
    "678-366-3360"
   ]
  },
  {
   "cell_type": "markdown",
   "metadata": {},
   "source": [
    "### 4c. State Codes (addr:state)\n",
    "\n",
    "State code displayed inconsistent format. In order to keep an appropriate format, <i>GA</i> was used.\n"
   ]
  },
  {
   "cell_type": "code",
   "execution_count": null,
   "metadata": {
    "collapsed": true
   },
   "outputs": [],
   "source": [
    "Before:\n",
    "[('GA', 216), ('ga', 5), ('Ga', 1)]\n",
    "\n",
    "After:\n",
    "[('GA', 222)]"
   ]
  },
  {
   "cell_type": "markdown",
   "metadata": {},
   "source": [
    "### 4d. Postal codes (addr:postcode)\n",
    "\n",
    "US postal codes have a basic 5-digit format but several postal codes encountered had an additional four digits. It was introduced by the U.S Postal Services to have more accurate information within certain postal codes. I decided to keep the 5-digit format for all postal codes for this case study."
   ]
  },
  {
   "cell_type": "code",
   "execution_count": null,
   "metadata": {
    "collapsed": true
   },
   "outputs": [],
   "source": [
    "Before:\n",
    "30058\n",
    "30083\n",
    "30083-1218\n",
    "30083-1233\n",
    "30083\n",
    "    \n",
    "After:\n",
    "30058\n",
    "30083\n",
    "30083\n",
    "30083\n",
    "30083"
   ]
  },
  {
   "cell_type": "markdown",
   "metadata": {},
   "source": [
    "### 4e. Counties (tiger:county, addr:county)"
   ]
  },
  {
   "cell_type": "markdown",
   "metadata": {},
   "source": [
    "There are entities that contained multiple counties that were separated by either \":\" or \";\" as shown below. It is interesting to note that the first county specified also was <i>AL</i>. If the first county had a<i>AL</i> state code, we specified the county as \"Fulton, GA\" which is the county that Atlanta, GA is located."
   ]
  },
  {
   "cell_type": "code",
   "execution_count": null,
   "metadata": {
    "collapsed": true
   },
   "outputs": [],
   "source": [
    " ('Calhoun, AL:Carroll, GA:Cleburne, AL:Cobb, GA:Douglas, GA:Fulton, GA:Haralson, GA:St. Clair, AL:Talladega, AL',\n",
    "  4),"
   ]
  },
  {
   "cell_type": "markdown",
   "metadata": {},
   "source": [
    "A dictonary was created to verify the exact amount when converting to CSV. The following below displays the 8 counties with the highest occurance. "
   ]
  },
  {
   "cell_type": "code",
   "execution_count": null,
   "metadata": {
    "collapsed": true
   },
   "outputs": [],
   "source": [
    "[('Cherokee, GA', 1073),\n",
    " ('Paulding, GA', 475),\n",
    " ('Cobb, GA', 351),\n",
    " ('Fulton, GA', 346),\n",
    " ('Gwinnett, GA', 249),\n",
    " ('DeKalb, GA', 228),\n",
    " ('Rockdale, GA', 193),\n",
    " ('Carroll, GA', 89)]"
   ]
  },
  {
   "cell_type": "markdown",
   "metadata": {},
   "source": [
    "# 5. SQLite3\n",
    "\n",
    "After cleaning the data, we converted the file to CSV and ready to submit to SQLite3. The following was performed in our local terminal and database:"
   ]
  },
  {
   "cell_type": "markdown",
   "metadata": {},
   "source": [
    "### 5a. Structure"
   ]
  },
  {
   "cell_type": "code",
   "execution_count": 2,
   "metadata": {
    "collapsed": true
   },
   "outputs": [],
   "source": [
    "import sqlite3\n",
    "conn = sqlite3.connect(\"p3.db\")\n",
    "cursor = conn.cursor()"
   ]
  },
  {
   "cell_type": "code",
   "execution_count": 3,
   "metadata": {
    "collapsed": false
   },
   "outputs": [
    {
     "name": "stdout",
     "output_type": "stream",
     "text": [
      "There are 305187 nodes in our database. \n",
      "\n",
      "There are 37391 ways in our database.\n"
     ]
    }
   ],
   "source": [
    "query = \"SELECT COUNT(*) FROM nodes;\"\n",
    "cursor.execute(query)\n",
    "print 'There are {} nodes in our database. \\n'.format(cursor.fetchall()[0][0])\n",
    "\n",
    "query = \"SELECT COUNT(*) FROM ways;\"\n",
    "cursor.execute(query)\n",
    "print 'There are {} ways in our database.'.format(cursor.fetchall()[0][0])"
   ]
  },
  {
   "cell_type": "markdown",
   "metadata": {},
   "source": [
    "<li type=\"square\">We were able to verify that there were no loss of nodes / ways when we converted the file from OSM to CSV.</li>"
   ]
  },
  {
   "cell_type": "markdown",
   "metadata": {},
   "source": [
    "### 5b. Top 5 Users"
   ]
  },
  {
   "cell_type": "code",
   "execution_count": 4,
   "metadata": {
    "collapsed": false
   },
   "outputs": [
    {
     "data": {
      "text/plain": [
       "[(u'Saikrishna_FultonCountyImport', 230013),\n",
       " (u'Jack Kittle Buildings', 19312),\n",
       " (u'woodpeck_fixbot', 10808),\n",
       " (u'Liber', 10317),\n",
       " (u'Ryan Lash', 5825)]"
      ]
     },
     "execution_count": 4,
     "metadata": {},
     "output_type": "execute_result"
    }
   ],
   "source": [
    "query = \"\"\"\n",
    "SELECT user, COUNT(*)\n",
    "FROM nodes\n",
    "GROUP BY user\n",
    "ORDER BY COUNT(*) DESC\n",
    "LIMIT 5;\n",
    "\"\"\"\n",
    "cursor.execute(query)\n",
    "cursor.fetchall()"
   ]
  },
  {
   "cell_type": "markdown",
   "metadata": {},
   "source": [
    "### 5c. Unique Users"
   ]
  },
  {
   "cell_type": "code",
   "execution_count": 17,
   "metadata": {
    "collapsed": false
   },
   "outputs": [
    {
     "name": "stdout",
     "output_type": "stream",
     "text": [
      "There are 536 unique users in our database.\n"
     ]
    }
   ],
   "source": [
    "query=\"\"\"\n",
    "SELECT COUNT(DISTINCT(sub.uid))          \n",
    "FROM (SELECT uid FROM nodes UNION SELECT uid FROM ways) as sub;\n",
    "\"\"\"\n",
    "cursor.execute(query)\n",
    "print 'There are {} unique users in our database.'.format(cursor.fetchall()[0][0])"
   ]
  },
  {
   "cell_type": "markdown",
   "metadata": {},
   "source": [
    "### 5c. Top 5 Cuisines"
   ]
  },
  {
   "cell_type": "code",
   "execution_count": 4,
   "metadata": {
    "collapsed": false
   },
   "outputs": [
    {
     "data": {
      "text/plain": [
       "[(u'american', 17),\n",
       " (u'mexican', 5),\n",
       " (u'pizza', 5),\n",
       " (u'chinese', 4),\n",
       " (u'italian', 4)]"
      ]
     },
     "execution_count": 4,
     "metadata": {},
     "output_type": "execute_result"
    }
   ],
   "source": [
    "query = \"\"\"\n",
    "SELECT nodes_tags.value, COUNT(*)\n",
    "FROM nodes_tags\n",
    "JOIN (SELECT DISTINCT(id) FROM nodes_tags WHERE value='restaurant') as sub ON nodes_tags.id = sub.id\n",
    "WHERE nodes_tags.key = 'cuisine'\n",
    "GROUP BY nodes_tags.value\n",
    "ORDER BY COUNT(*) DESC\n",
    "LIMIT 5;\n",
    "\"\"\"\n",
    "cursor.execute(query)\n",
    "cursor.fetchall()"
   ]
  },
  {
   "cell_type": "markdown",
   "metadata": {},
   "source": [
    "### 5d. Top 5 Amenities"
   ]
  },
  {
   "cell_type": "code",
   "execution_count": 24,
   "metadata": {
    "collapsed": false,
    "scrolled": true
   },
   "outputs": [
    {
     "data": {
      "text/plain": [
       "[(u'restaurant', 78),\n",
       " (u'place_of_worship', 54),\n",
       " (u'school', 38),\n",
       " (u'bicycle_parking', 28),\n",
       " (u'fast_food', 23)]"
      ]
     },
     "execution_count": 24,
     "metadata": {},
     "output_type": "execute_result"
    }
   ],
   "source": [
    "query = \"\"\"\n",
    "SELECT nodes_tags.value, COUNT(*)\n",
    "FROM nodes_tags\n",
    "WHERE nodes_tags.key = 'amenity'\n",
    "GROUP BY nodes_tags.value\n",
    "ORDER BY COUNT(*) DESC\n",
    "LIMIT 5;\n",
    "\"\"\"\n",
    "cursor.execute(query)\n",
    "cursor.fetchall()"
   ]
  },
  {
   "cell_type": "markdown",
   "metadata": {},
   "source": [
    "### 5e. Name of Fast Food Restaurants"
   ]
  },
  {
   "cell_type": "code",
   "execution_count": 27,
   "metadata": {
    "collapsed": false
   },
   "outputs": [
    {
     "data": {
      "text/plain": [
       "[(u'Subway', 4),\n",
       " (u\"McDonald's\", 3),\n",
       " (u\"Arby's\", 1),\n",
       " (u'Burger King', 1),\n",
       " (u'Checkers Drive-In', 1),\n",
       " (u'Chick-Fil-A', 1),\n",
       " (u'China Dragon', 1),\n",
       " (u\"Church's\", 1),\n",
       " (u'Cleveland Style Deli', 1),\n",
       " (u\"Domino's Pizza\", 1),\n",
       " (u'Five Guys', 1),\n",
       " (u'Flats', 1),\n",
       " (u\"Jimmy John's\", 1),\n",
       " (u'Panera Bread', 1),\n",
       " (u\"Papa John's\", 1),\n",
       " (u'Pizza Hut', 1),\n",
       " (u\"Rosa's Pizza\", 1)]"
      ]
     },
     "execution_count": 27,
     "metadata": {},
     "output_type": "execute_result"
    }
   ],
   "source": [
    "query = \"\"\"\n",
    "SELECT nodes_tags.value, COUNT(*) as num\n",
    "FROM nodes_tags\n",
    "JOIN (SELECT DISTINCT(id) FROM nodes_tags WHERE value='fast_food') as sub ON nodes_tags.id = sub.id\n",
    "WHERE nodes_tags.key = 'name'\n",
    "GROUP BY value\n",
    "ORDER BY num DESC;\n",
    "\"\"\"\n",
    "cursor.execute(query)\n",
    "cursor.fetchall()"
   ]
  },
  {
   "cell_type": "markdown",
   "metadata": {},
   "source": [
    "# 6. Conclusion\n",
    "\n",
    "Throughout this project, we were able to successfully convert an OpenStreetMap file to CSV and submit to Sqlite3 for further analysis. During the conversion process, we saw various issues such as street suffixes and inconsistent phone formats. We were able to verify that there were no loss of file during that conversion as well by examining the structure in SQLite. By using queries, we were able to obtain interesting information from our dataset as well."
   ]
  },
  {
   "cell_type": "markdown",
   "metadata": {},
   "source": [
    "## 6a. Suggestions: name\n",
    "\n",
    "After performing queries on SQLite3, one question that came about was whether <i>names</i> had issues as well. I examined fast food restaurant names in the section above and there seemed to be no issues. However I created another database with the original file <b>atlanta_ga.osm</b> with the same format for elements. I ran the query for name of fast food restaurants (5e) again and noticed some issues among names:"
   ]
  },
  {
   "cell_type": "code",
   "execution_count": null,
   "metadata": {
    "collapsed": true
   },
   "outputs": [],
   "source": [
    "[(u'Subway', 11),\n",
    " (u\"McDonald's\", 7),\n",
    " (u\"Jimmy John's\", 4),\n",
    " (u\"Wendy's\", 4),\n",
    " (u\"Arby's\", 3),\n",
    " (u'Burger King', 3),\n",
    " (u'Taco Bell', 3),\n",
    " (u'Chick-fil-A', 2),\n",
    " (u'Five Guys', 2),\n",
    " (u\"Jersey Mike's Subs\", 2),\n",
    " (u'Pizza Hut', 2),\n",
    " (u\"Alibaba's Turkish Food\", 1),\n",
    " (u'Atlantic Cafe', 1),\n",
    " (u'Burger Win', 1),\n",
    " (u'Checkers Drive-In', 1),\n",
    " (u'Chick-Fil-A', 1),\n",
    " (u'China Dragon', 1),\n",
    " (u'Chipotle Mexican Grill', 1),\n",
    " (u\"Church's\", 1),\n",
    " (u'Cleveland Style Deli', 1),\n",
    " (u'Cookout', 1),\n",
    " (u'Dairy Queen', 1),\n",
    " (u\"Domino's\", 1),\n",
    " (u\"Domino's Pizza\", 1),\n",
    " (u'Dunkin Donuts', 1),\n",
    " (u'Einstein Bros Bagels', 1),\n",
    " (u'Flats', 1),\n",
    " (u'Green Apple Pizza', 1),\n",
    " (u'Happy Donuts', 1),\n",
    " (u\"Jason's Deli\", 1),\n",
    " (u\"Krystal's\", 1),\n",
    " (u\"Long John Silver's\", 1),\n",
    " (u\"Moe's\", 1),\n",
    " (u\"Moe's Burritos\", 1),\n",
    " (u'Naan Stop', 1),\n",
    " (u'Panera Bread', 1),\n",
    " (u\"Paolo's Gelato Italiano\", 1),\n",
    " (u\"Papa John's\", 1),\n",
    " (u'Planet Smoothie', 1),\n",
    " (u\"Rosa's Pizza\", 1),\n",
    " (u'Sensational Subs', 1),\n",
    " (u\"Shane's Rib Shack\", 1),\n",
    " (u'Smash burger', 1),\n",
    " (u'Smoothie King', 1),\n",
    " (u'We Suki Suki', 1),\n",
    " (u'WhichWhich', 1),\n",
    " (u\"Willy's\", 1),\n",
    " (u\"Willy's Mexican Grill\", 1),\n",
    " (u'Willys Mexican', 1),\n",
    " (u'Wingnutz', 1),\n",
    " (u'Zesto', 1),\n",
    " (u\"Zoe's Kitchen \", 1)]"
   ]
  },
  {
   "cell_type": "markdown",
   "metadata": {},
   "source": [
    "<li type=\"square\">We can see that <b>Willy's Mexican Grill</b> had two other variations: <b>Willy's</b> and <b>Willys Mexican</b>. Thus one of the suggestions to improving the OSM data is to also determining a method in addressing names of restauraunts (and other areas) as well. The benefits could allow users to accurately determine how many restauraunts are in a particular area. For example, if we were interested in determining how many [Moe's](https://www.moes.com) are in our area, we would expect the result to be <b>2</b>. An anticipated problem in implementing this method includes as how to group these names (e.g <b>Moe's</b> or <b>Moe's Burritos</b>)."
   ]
  },
  {
   "cell_type": "markdown",
   "metadata": {},
   "source": [
    "# 7. Reference\n",
    "\n",
    "https://docs.python.org/2/library/xml.etree.elementtree.html<br>\n",
    "https://en.wikipedia.org/wiki/ZIP_Code<br>\n",
    "http://www.worldatlas.com/na/us/al/c-randolph-county-alabama.html<br>\n",
    "https://www.tutorialspoint.com/python/list_list.htm<br>\n",
    "https://wiki.openstreetmap.org/wiki/Elements<br>\n",
    "https://stackoverflow.com/questions/11390556/processing-xml-in-python-with-elementtree<br>\n",
    "https://gist.github.com/carlward/54ec1c91b62a5f911c42#file-sample_project-md<br>"
   ]
  }
 ],
 "metadata": {
  "anaconda-cloud": {},
  "kernelspec": {
   "display_name": "Python [py27]",
   "language": "python",
   "name": "Python [py27]"
  },
  "language_info": {
   "codemirror_mode": {
    "name": "ipython",
    "version": 2
   },
   "file_extension": ".py",
   "mimetype": "text/x-python",
   "name": "python",
   "nbconvert_exporter": "python",
   "pygments_lexer": "ipython2",
   "version": "2.7.13"
  }
 },
 "nbformat": 4,
 "nbformat_minor": 0
}
