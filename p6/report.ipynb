{
 "cells": [
  {
   "cell_type": "markdown",
   "metadata": {},
   "source": [
    "# P6: Test a Perceptual Phenomenon\n",
    "<b>by Daniel J. Lee</b> <br>\n",
    "<b>September 16, 2017</b>"
   ]
  },
  {
   "cell_type": "markdown",
   "metadata": {},
   "source": [
    "## 1. Introduction\n",
    "\n",
    "In this project, we are investigating an experiment regarding the <b>[Stroop Effect](https://en.wikipedia.org/wiki/Stroop_effect)</b>. The purpose of this investigation is to correctly identify the components of the experiment and using statistics to draw valid conclusions."
   ]
  },
  {
   "cell_type": "code",
   "execution_count": 8,
   "metadata": {
    "collapsed": false
   },
   "outputs": [
    {
     "name": "stdout",
     "output_type": "stream",
     "text": [
      "   Congruent  Incongruent\n",
      "0     12.079       19.278\n",
      "1     16.791       18.741\n",
      "2      9.564       21.214\n",
      "3      8.630       15.687\n",
      "4     14.669       22.803\n",
      "\n",
      "24 recorded measurements in seconds\n"
     ]
    }
   ],
   "source": [
    "import pandas as pd\n",
    "import numpy as np\n",
    "\n",
    "df = pd.read_csv('stroopdata.csv')\n",
    "print df.head()\n",
    "print '\\n'  + str(len(df)) + ' recorded measurements in seconds'"
   ]
  },
  {
   "cell_type": "markdown",
   "metadata": {},
   "source": [
    "<li type=\"square\">In the dataset, we have a sample of recorded time measurements by 24 participants to pronounce a list of words with either a congruent or incongruent condition. We define a congruent condition as the word that actually represents its color (e.g <font color='red'><b>RED</b></font>, <font color='blue'><b>BLUE</b></font>) whereas an <i>incongruent</i> condition would be otherwise (e.g. <font color='orange'><b>PURPLE</b></font>, <font color='green'><b>ORANGE</b></font>). We would expect participants to have a lower recorded time with <i>congruent</i> word conditions than <i>incongruent</i> as shown in the portion above.</li>"
   ]
  },
  {
   "cell_type": "markdown",
   "metadata": {},
   "source": [
    "## 2. Hypothesis\n",
    "\n",
    "\n",
    "In this experiment, we identify our independent variable as the <i>condition of the word (congruent or incongruent)</i> that were generated for the participants to pronounce whereas our dependent variable is the <i>time</i> that it took for each participant to identify the words. Based on the information provided for congruent (C) and incongruent (IC) word conditions, the appropriate test would be the <b>t-test</b> due to the lack of information of our population. Thus we are using the given samples of the participants to make inference of the population.\n",
    "\n",
    "In the formula below, we specify the mu as the <i>population mean</i> of the time it took for the participants to finish the test with congruent words and for the incongruent words.\n",
    "<br>\n",
    "<br>\n",
    "<li type=\"square\"> <b>Null Hypothesis</b>: the population mean of time recorded by participants for <i>congruent words</i> and <i>incongruent words</i> are <b>exact</b>.</li>\n",
    "<li type=\"square\"> <b>Alternate Hypothesis</b>: the population mean of time recorded by participants for <i>congruent words</i> is <b>less</b> than the average time for <i>incongruent words</i>.</li>\n",
    "\n",
    "<img src =\"./img/pic-1.png\"/>\n",
    "\n",
    " \n",
    "\n",
    "We are basing from the <b>one-tailed t-test</b> because we are given a sample of participants and our standard deviation of the population is unknown. In this experiment, we have two dependent samples with conditions and making inferences of the population mean based on it."
   ]
  },
  {
   "cell_type": "markdown",
   "metadata": {},
   "source": [
    "## 3. Measurements\n",
    "\n"
   ]
  },
  {
   "cell_type": "code",
   "execution_count": 9,
   "metadata": {
    "collapsed": false
   },
   "outputs": [
    {
     "name": "stdout",
     "output_type": "stream",
     "text": [
      "Average time(s) for congruent: 14.051125\n",
      "Average time(s) for incongruent: 22.0159166667\n"
     ]
    }
   ],
   "source": [
    "print \"Average time(s) for congruent: \" + str(df['Congruent'].mean())\n",
    "print \"Average time(s) for incongruent: \" + str(df['Incongruent'].mean())"
   ]
  },
  {
   "cell_type": "code",
   "execution_count": 15,
   "metadata": {
    "collapsed": false
   },
   "outputs": [
    {
     "name": "stdout",
     "output_type": "stream",
     "text": [
      "Sample standard deviation for congruent: 3.55935795765\n",
      "Sample standard deviation for incongruent: 4.79705712247\n"
     ]
    }
   ],
   "source": [
    "def sample_std(column, n):\n",
    "    x = 0\n",
    "    mean = column.mean()\n",
    "    for i in column:\n",
    "        x += (i-mean)**2\n",
    "    x = (float(x /(n-1)))**0.5\n",
    "    return x\n",
    "\n",
    "sstd1 = sample_std(df['Congruent'],len(df['Congruent']))\n",
    "sstd2 = sample_std(df['Incongruent'],len(df['Incongruent']))\n",
    "\n",
    "print \"Sample standard deviation for congruent: \" + str(sstd1)\n",
    "print \"Sample standard deviation for incongruent: \" + str(sstd2)"
   ]
  },
  {
   "cell_type": "markdown",
   "metadata": {},
   "source": [
    "<li type=\"square\"> We measured the central tendency for both <i>congruent</i> and <i>incongruent</i> above. As expected, the average time it took a participant to pronounce congruent words is less than incongruent words.</li>\n",
    "<li type=\"square\"> Since only samples of participants were provided, the sample standard deviation was used to generalize the population standard deviation.</li>"
   ]
  },
  {
   "cell_type": "markdown",
   "metadata": {},
   "source": [
    "## 4. Visualization"
   ]
  },
  {
   "cell_type": "code",
   "execution_count": 11,
   "metadata": {
    "collapsed": false
   },
   "outputs": [
    {
     "name": "stdout",
     "output_type": "stream",
     "text": [
      "Populating the interactive namespace from numpy and matplotlib\n"
     ]
    },
    {
     "data": {
      "text/plain": [
       "array([[<matplotlib.axes._subplots.AxesSubplot object at 0x11c132310>]], dtype=object)"
      ]
     },
     "execution_count": 11,
     "metadata": {},
     "output_type": "execute_result"
    },
    {
     "data": {
      "image/png": "[encoded data removed]",
      "text/plain": [
       "<matplotlib.figure.Figure at 0x11c03a850>"
      ]
     },
     "metadata": {},
     "output_type": "display_data"
    },
    {
     "data": {
      "image/png": "[encoded data removed]",
      "text/plain": [
       "<matplotlib.figure.Figure at 0x11c03ae50>"
      ]
     },
     "metadata": {},
     "output_type": "display_data"
    }
   ],
   "source": [
    "%pylab inline\n",
    "df.hist('Congruent',bins=7)\n",
    "df.hist('Incongruent')"
   ]
  },
  {
   "cell_type": "markdown",
   "metadata": {},
   "source": [
    "<li type=\"square\"> Based on the visualizations above, we can see that there is an outlier in the performance for incongruent words. We expected the distribution of congruent word performance to be normally distributed but tends to be more positive-skewed."
   ]
  },
  {
   "cell_type": "markdown",
   "metadata": {},
   "source": [
    "## 5. Results"
   ]
  },
  {
   "cell_type": "markdown",
   "metadata": {},
   "source": [
    "<li type=\"square\">Using the provided <b>[t-table](https://s3.amazonaws.com/udacity-hosted-downloads/t-table.jpg)</b>, we were able to get a critical t-score of <b>1.714</b> (df = 23, alpha = 0.05). Note we are using the <b>one-tailed t-test</b> since the alternate hypothesis is that the average time for performance with incongruent words would be higher than performance with congruent words.</li> In the calculation below, we are taking the difference of the results of the incongruent test from the results with congruent word lists."
   ]
  },
  {
   "cell_type": "code",
   "execution_count": 12,
   "metadata": {
    "collapsed": false
   },
   "outputs": [
    {
     "data": {
      "text/html": [
       "<div>\n",
       "<table border=\"1\" class=\"dataframe\">\n",
       "  <thead>\n",
       "    <tr style=\"text-align: right;\">\n",
       "      <th></th>\n",
       "      <th>Congruent</th>\n",
       "      <th>Incongruent</th>\n",
       "      <th>Difference</th>\n",
       "    </tr>\n",
       "  </thead>\n",
       "  <tbody>\n",
       "    <tr>\n",
       "      <th>0</th>\n",
       "      <td>12.079</td>\n",
       "      <td>19.278</td>\n",
       "      <td>7.199</td>\n",
       "    </tr>\n",
       "    <tr>\n",
       "      <th>1</th>\n",
       "      <td>16.791</td>\n",
       "      <td>18.741</td>\n",
       "      <td>1.950</td>\n",
       "    </tr>\n",
       "    <tr>\n",
       "      <th>2</th>\n",
       "      <td>9.564</td>\n",
       "      <td>21.214</td>\n",
       "      <td>11.650</td>\n",
       "    </tr>\n",
       "  </tbody>\n",
       "</table>\n",
       "</div>"
      ],
      "text/plain": [
       "   Congruent  Incongruent  Difference\n",
       "0     12.079       19.278       7.199\n",
       "1     16.791       18.741       1.950\n",
       "2      9.564       21.214      11.650"
      ]
     },
     "execution_count": 12,
     "metadata": {},
     "output_type": "execute_result"
    }
   ],
   "source": [
    "df['Difference'] = df['Incongruent'] - df['Congruent']\n",
    "df.head(3)"
   ]
  },
  {
   "cell_type": "code",
   "execution_count": 17,
   "metadata": {
    "collapsed": false
   },
   "outputs": [
    {
     "name": "stdout",
     "output_type": "stream",
     "text": [
      "Results: t(23) = 8.02070694411, p < 0.00001 , one-tailed\n"
     ]
    }
   ],
   "source": [
    "#Performing calculations for t-test\n",
    "from __future__ import division\n",
    "mean_diff = df['Difference'].mean()\n",
    "sstd_diff = sample_std(df['Difference'],len(df['Difference']))\n",
    "n=len(df)\n",
    "standard_error = sstd_diff/sqrt(n)\n",
    "\n",
    "t = mean_diff/standard_error\n",
    "print 'Results: t(23) = ' + str(t) + ', ' + 'p < 0.00001 , one-tailed'"
   ]
  },
  {
   "cell_type": "markdown",
   "metadata": {},
   "source": [
    "<li type=\"square\"> Based on the calculation above, we have an t-score of 8.02 and p-value of &lt; .00001 using the calculator [here](http://www.socscistatistics.com/pvalues/tdistribution.aspx). The result is <b>statistically significant</b> since the p-value is less than the alpha of 0.05, indicating to <b>reject the null hypothesis</b>. As expected, we assumed the average performance of congruent words to be <i>less</i> than with incongruent words."
   ]
  },
  {
   "cell_type": "code",
   "execution_count": 19,
   "metadata": {
    "collapsed": false
   },
   "outputs": [
    {
     "name": "stdout",
     "output_type": "stream",
     "text": [
      "Cohen's d: 0.202701121265\n",
      "r: 0.736636416145\n"
     ]
    }
   ],
   "source": [
    "# Other statistical results\n",
    "\n",
    "# Cohen's d\n",
    "standard_error = sstd_diff / len(df)\n",
    "print \"Cohen's d: \" + str(standard_error)\n",
    "\n",
    "# r^2\n",
    "r = (t**2)/((t**2) + (n-1))\n",
    "print \"r: \" + str(r)"
   ]
  },
  {
   "cell_type": "markdown",
   "metadata": {},
   "source": [
    "<li type=\"square\"> We obtained the Cohen's d of 0.2027 indicating that the difference of means (effect size) are 20.27% of the standard deviation apart.</li>\n",
    "<li type=\"square\"> R-value of 0.7366 indicates that 73.66% of the differences in the average time performance are due to the type of tests.</li>"
   ]
  },
  {
   "cell_type": "markdown",
   "metadata": {},
   "source": [
    "## 6. Conclusion\n",
    "\n",
    "For this investigation, we were given a sample of the time performances of participants to complete a list of congruent and incongruent words. Since we are only given the sample, we generated the null and alternate hypothesis for the population mean. We performed the <b>one-tailed t-test for dependent samples</b> to make inferences of the population mean. The results obtained indicate that it is <b>statistically significant</b> and we reject our null hypothesis."
   ]
  },
  {
   "cell_type": "markdown",
   "metadata": {},
   "source": [
    "## Reference\n",
    "\n",
    "https://en.wikipedia.org/wiki/Stroop_effect<br>\n",
    "http://www.htmlhelp.com/reference/html40/entities/symbols.html<br>\n",
    "https://en.wikipedia.org/wiki/Central_tendency<br>\n",
    "http://www.statisticshowto.com/when-to-use-a-t-score-vs-z-score/<br>\n",
    "https://statistics.laerd.com/statistical-guides/measures-of-spread-standard-deviation.php<br>"
   ]
  }
 ],
 "metadata": {
  "anaconda-cloud": {},
  "kernelspec": {
   "display_name": "Python [py27]",
   "language": "python",
   "name": "Python [py27]"
  },
  "language_info": {
   "codemirror_mode": {
    "name": "ipython",
    "version": 2
   },
   "file_extension": ".py",
   "mimetype": "text/x-python",
   "name": "python",
   "nbconvert_exporter": "python",
   "pygments_lexer": "ipython2",
   "version": "2.7.13"
  }
 },
 "nbformat": 4,
 "nbformat_minor": 0
}
